{
 "cells": [
  {
   "cell_type": "markdown",
   "id": "096cc57f",
   "metadata": {},
   "source": [
    "# №11. **BatchNorm**. Ускорение и стабильность обучения"
   ]
  },
  {
   "cell_type": "markdown",
   "id": "9e45c1e3",
   "metadata": {},
   "source": [
    "1. https://habr.com/ru/articles/309302\n",
    "2. https://habr.com/ru/companies/mvideo/articles/782360\n",
    "3. ..."
   ]
  },
  {
   "cell_type": "markdown",
   "id": "bb9c6e27",
   "metadata": {},
   "source": [
    "## 1. Краткая теория"
   ]
  },
  {
   "cell_type": "markdown",
   "id": "f4645785",
   "metadata": {},
   "source": [
    "**Batch Normalization (BN)** предназначен для улучшения скорости, производительности и стабильности обучения нейронных сетей.\n",
    "\n",
    "При использовании **BatchNorm** сохраняется пространственная структура выходных данных, т.е. нормализация не влияет на пространственное расположение признаков.\n",
    "\n",
    "В некоторых случаях **BN** может служить регуляризатором, уменьшая необходимость в **Dropout**."
   ]
  },
  {
   "cell_type": "markdown",
   "id": "3ccc42a2",
   "metadata": {},
   "source": [
    "## 2. Использование в `torch`"
   ]
  },
  {
   "cell_type": "code",
   "execution_count": 1,
   "id": "b76fbf33",
   "metadata": {},
   "outputs": [],
   "source": [
    "import torch\n",
    "import torch.nn as nn"
   ]
  },
  {
   "cell_type": "code",
   "execution_count": 23,
   "id": "38ade8e6",
   "metadata": {},
   "outputs": [],
   "source": [
    "model = nn.Sequential(\n",
    "    nn.Linear(3, 5, bias=False), # отключение bias\n",
    "    nn.ReLU(),\n",
    "    nn.BatchNorm1d(5), # BN до или после функции активации\n",
    "    nn.Linear(5, 4)\n",
    ")"
   ]
  },
  {
   "cell_type": "code",
   "execution_count": 24,
   "id": "ca6254b9",
   "metadata": {},
   "outputs": [
    {
     "data": {
      "text/plain": [
       "tensor([[0.6436, 0.9802, 0.4771],\n",
       "        [0.6353, 0.4780, 0.1326]])"
      ]
     },
     "execution_count": 24,
     "metadata": {},
     "output_type": "execute_result"
    }
   ],
   "source": [
    "x = torch.rand([2, 3])\n",
    "x"
   ]
  },
  {
   "cell_type": "code",
   "execution_count": 25,
   "id": "52cd2ca2",
   "metadata": {},
   "outputs": [
    {
     "data": {
      "text/plain": [
       "tensor([[-0.0406, -0.4081, -0.3633, -0.1883],\n",
       "        [-0.0813, -0.3200, -0.4015, -0.1202]], grad_fn=<AddmmBackward0>)"
      ]
     },
     "execution_count": 25,
     "metadata": {},
     "output_type": "execute_result"
    }
   ],
   "source": [
    "model.eval()\n",
    "model(x)"
   ]
  },
  {
   "cell_type": "code",
   "execution_count": 26,
   "id": "09ae6377",
   "metadata": {},
   "outputs": [
    {
     "data": {
      "text/plain": [
       "tensor([[ 0.0810, -0.4843, -0.3236, -0.4041],\n",
       "        [-0.4370, -0.2133, -0.4635,  0.5785]], grad_fn=<AddmmBackward0>)"
      ]
     },
     "execution_count": 26,
     "metadata": {},
     "output_type": "execute_result"
    }
   ],
   "source": [
    "model.train()\n",
    "model(x)"
   ]
  },
  {
   "cell_type": "markdown",
   "id": "880035fa",
   "metadata": {},
   "source": [
    "## 3. Итоги"
   ]
  },
  {
   "cell_type": "markdown",
   "id": "f4062083",
   "metadata": {},
   "source": [
    "***Использование Batch Normalization***\n",
    "<table>\n",
    "  <tr>\n",
    "    <th>Минусы</th>\n",
    "    <th>Плюcы</th>\n",
    "  </tr>\n",
    "  <tr>\n",
    "    <td><img src=\"data/my_images/BN_disadv.png\" width=\"350\"></td>\n",
    "    <td><img src=\"data/my_images/BN_adv.png\" width=\"350\"></td>\n",
    "  </tr>\n",
    "</table>"
   ]
  }
 ],
 "metadata": {
  "kernelspec": {
   "display_name": ".ML-venv",
   "language": "python",
   "name": "python3"
  },
  "language_info": {
   "codemirror_mode": {
    "name": "ipython",
    "version": 3
   },
   "file_extension": ".py",
   "mimetype": "text/x-python",
   "name": "python",
   "nbconvert_exporter": "python",
   "pygments_lexer": "ipython3",
   "version": "3.12.4"
  }
 },
 "nbformat": 4,
 "nbformat_minor": 5
}
