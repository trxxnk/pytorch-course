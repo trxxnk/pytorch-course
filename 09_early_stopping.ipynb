{
 "cells": [
  {
   "cell_type": "markdown",
   "id": "0ed303b0",
   "metadata": {},
   "source": [
    "# №9. EarlyStopping & Тестирование модели"
   ]
  },
  {
   "cell_type": "code",
   "execution_count": 2,
   "id": "d4454bb7",
   "metadata": {},
   "outputs": [],
   "source": [
    "import torch\n",
    "import torch.nn as nn\n",
    "\n",
    "from torch.utils.data import Dataset, DataLoader, random_split\n",
    "\n",
    "import torchvision\n",
    "from torchvision.transforms import v2\n",
    "\n",
    "import os\n",
    "import matplotlib.pyplot as plt\n",
    "import numpy as np\n",
    "\n",
    "import json\n",
    "from tqdm import tqdm\n",
    "from PIL import Image\n",
    "\n",
    "# plt.style.use('dark_background')"
   ]
  },
  {
   "cell_type": "code",
   "execution_count": 4,
   "id": "d83f92ed",
   "metadata": {},
   "outputs": [],
   "source": [
    "# device = 'cuda' if torch.cuda.is_available() else 'cpu'\n",
    "device = 'cpu'"
   ]
  },
  {
   "cell_type": "markdown",
   "id": "28132ca4",
   "metadata": {},
   "source": [
    "## 1. Тестирование модели"
   ]
  },
  {
   "cell_type": "code",
   "execution_count": 5,
   "id": "b1df34b8",
   "metadata": {},
   "outputs": [],
   "source": [
    "class GenImagesDataset(Dataset):\n",
    "    def __init__(self, path:str, transform=None):\n",
    "        self.path = path\n",
    "        self.transform = transform\n",
    "        \n",
    "        self.list_file_names = os.listdir(self.path)\n",
    "        if 'coords.json' in self.list_file_names:\n",
    "            self.list_file_names.remove('coords.json')\n",
    "            \n",
    "        self.len_dataset = len(self.list_file_names)\n",
    "        \n",
    "        with open(os.path.join(self.path, 'coords.json'), 'r') as f:\n",
    "            self.coords = json.load(f)\n",
    "        \n",
    "    def __len__(self):\n",
    "        return self.len_dataset\n",
    "    \n",
    "    def __getitem__(self, index:int):\n",
    "        file_name = self.list_file_names[index]\n",
    "        path_img = os.path.join(self.path, file_name)\n",
    "        \n",
    "        img = Image.open(path_img)\n",
    "        coords = np.array(self.coords[file_name], dtype=np.float32)\n",
    "        \n",
    "        if self.transform is not None:\n",
    "            img = self.transform(img)\n",
    "            \n",
    "        return img, coords"
   ]
  },
  {
   "cell_type": "code",
   "execution_count": 6,
   "id": "bc0bd325",
   "metadata": {},
   "outputs": [],
   "source": [
    "transform = v2.Compose([\n",
    "    v2.ToImage(),\n",
    "    v2.ToDtype(torch.float32, scale=True),\n",
    "    v2.Normalize(mean=(0.5,), std=(0.5,))\n",
    "])"
   ]
  },
  {
   "cell_type": "code",
   "execution_count": 7,
   "id": "437e507c",
   "metadata": {},
   "outputs": [
    {
     "data": {
      "text/plain": [
       "100000"
      ]
     },
     "execution_count": 7,
     "metadata": {},
     "output_type": "execute_result"
    }
   ],
   "source": [
    "GEN_IMAGES_FOLDER = os.path.join('data', 'GEN_IMAGES')\n",
    "dataset = GenImagesDataset(path=GEN_IMAGES_FOLDER, transform=transform)\n",
    "len(dataset)"
   ]
  },
  {
   "cell_type": "code",
   "execution_count": 8,
   "id": "a01ea215",
   "metadata": {},
   "outputs": [
    {
     "data": {
      "text/plain": [
       "array([24., 33.], dtype=float32)"
      ]
     },
     "execution_count": 8,
     "metadata": {},
     "output_type": "execute_result"
    },
    {
     "data": {
      "image/png": "[encoded data removed]",
      "text/plain": [
       "<Figure size 640x480 with 1 Axes>"
      ]
     },
     "metadata": {},
     "output_type": "display_data"
    }
   ],
   "source": [
    "idx = 52\n",
    "img, coords = dataset[idx]\n",
    "plt.imshow(img.numpy()[0], cmap='gray')\n",
    "plt.scatter(coords[1], coords[0], color='r', marker='*')\n",
    "coords"
   ]
  },
  {
   "cell_type": "code",
   "execution_count": 30,
   "id": "7d3b722a",
   "metadata": {},
   "outputs": [
    {
     "data": {
      "text/plain": [
       "(70000, 10000, 20000)"
      ]
     },
     "execution_count": 30,
     "metadata": {},
     "output_type": "execute_result"
    }
   ],
   "source": [
    "train_set, val_set, test_set = random_split(dataset, [0.7, 0.1, 0.2])\n",
    "len(train_set), len(val_set), len(test_set)"
   ]
  },
  {
   "cell_type": "code",
   "execution_count": 31,
   "id": "50b8412b",
   "metadata": {},
   "outputs": [],
   "source": [
    "BATCH_SIZE=32\n",
    "train_loader = DataLoader(train_set, BATCH_SIZE, shuffle=True)\n",
    "val_loader = DataLoader(val_set, BATCH_SIZE, shuffle=True)\n",
    "test_loader = DataLoader(test_set, BATCH_SIZE, shuffle=False)"
   ]
  },
  {
   "cell_type": "code",
   "execution_count": 32,
   "id": "5466a923",
   "metadata": {},
   "outputs": [],
   "source": [
    "class myRegModel(nn.Module):\n",
    "    def __init__(self, input, output):\n",
    "        super().__init__()\n",
    "        hidden_size = 64\n",
    "        self.layer_1 = nn.Linear(input, hidden_size)\n",
    "        self.layer_2 = nn.Linear(hidden_size, output)\n",
    "        self.act_func = nn.ReLU()\n",
    "        \n",
    "    def forward(self, x):\n",
    "        x = self.layer_1(x)\n",
    "        x = self.act_func(x)\n",
    "        out = self.layer_2(x)\n",
    "        return out"
   ]
  },
  {
   "cell_type": "code",
   "execution_count": 33,
   "id": "f62f2f6d",
   "metadata": {},
   "outputs": [
    {
     "data": {
      "text/plain": [
       "myRegModel(\n",
       "  (layer_1): Linear(in_features=4096, out_features=64, bias=True)\n",
       "  (layer_2): Linear(in_features=64, out_features=2, bias=True)\n",
       "  (act_func): ReLU()\n",
       ")"
      ]
     },
     "execution_count": 33,
     "metadata": {},
     "output_type": "execute_result"
    }
   ],
   "source": [
    "param_dict = torch.load('models/reg_model_state_dict_10092025_1118.pt', map_location=device)\n",
    "reg_model = myRegModel(64*64, 2)\n",
    "reg_model.load_state_dict(param_dict)\n",
    "reg_model"
   ]
  },
  {
   "cell_type": "code",
   "execution_count": 34,
   "id": "e6b74689",
   "metadata": {},
   "outputs": [
    {
     "data": {
      "text/plain": [
       "(torch.Size([3, 2]),\n",
       " tensor([[-12.8213, -13.4740],\n",
       "         [-12.6164, -13.4678],\n",
       "         [-12.6747, -13.2895]], grad_fn=<AddmmBackward0>))"
      ]
     },
     "execution_count": 34,
     "metadata": {},
     "output_type": "execute_result"
    }
   ],
   "source": [
    "x = torch.rand([3, 64*64], dtype=torch.float32).to(device)\n",
    "out = reg_model(x)\n",
    "out.shape, out"
   ]
  },
  {
   "cell_type": "code",
   "execution_count": 35,
   "id": "d303b594",
   "metadata": {},
   "outputs": [],
   "source": [
    "loss_reg_model = nn.MSELoss()"
   ]
  },
  {
   "cell_type": "code",
   "execution_count": null,
   "id": "ed60175e",
   "metadata": {},
   "outputs": [
    {
     "name": "stderr",
     "output_type": "stream",
     "text": [
      "Testing process: 100%|██████████| 625/625 [01:28<00:00,  7.10it/s]"
     ]
    },
    {
     "name": "stdout",
     "output_type": "stream",
     "text": [
      " === TEST RESULTS === \n",
      "len_test=20000, all_test_loss=35.5051, test_mean_loss=0.0018, test_acc=0.9289\n"
     ]
    },
    {
     "name": "stderr",
     "output_type": "stream",
     "text": [
      "\n"
     ]
    }
   ],
   "source": [
    "all_test_loss = 0\n",
    "true_answer = 0\n",
    "test_examples = []\n",
    "\n",
    "# Тестирование модели\n",
    "reg_model.eval()\n",
    "with torch.no_grad():\n",
    "    count = 0\n",
    "    for x, targets in tqdm(test_loader, desc=\"Testing process\"):\n",
    "        if count % 2000 == 0:\n",
    "            test_examples.append((x[0], targets[0]))\n",
    "        # Обработка данных\n",
    "\n",
    "        # (batch_size, 1, 64, 64) --> (batch_size, 64*64)\n",
    "        x = x.reshape(-1, 64*64).to(device)\n",
    "\n",
    "        targets = targets.to(device)\n",
    "\n",
    "        # Прямой проход и расчет ошибки модели\n",
    "        pred = reg_model(x)\n",
    "        loss = loss_reg_model(pred, targets)\n",
    "\n",
    "        all_test_loss += loss.item()\n",
    "\n",
    "        true_answer += (torch.round(pred) == targets).all(dim=1).sum().item()\n",
    "            \n",
    "# Расчет точности    \n",
    "len_test = len(test_set)\n",
    "test_mean_loss = all_test_loss / len_test\n",
    "test_acc = true_answer / len_test\n",
    "print(f' === TEST RESULTS === ')\n",
    "print(f\"{len_test=}, {all_test_loss=:.4f}, {test_mean_loss=:.4f}, {test_acc=:.4f}\")"
   ]
  },
  {
   "cell_type": "code",
   "execution_count": 58,
   "id": "4734d553",
   "metadata": {},
   "outputs": [
    {
     "name": "stdout",
     "output_type": "stream",
     "text": [
      "len(test_examples)=301\n"
     ]
    }
   ],
   "source": [
    "print((f\"{len(test_examples)=}\"))"
   ]
  },
  {
   "cell_type": "code",
   "execution_count": 85,
   "id": "8a539284",
   "metadata": {},
   "outputs": [
    {
     "name": "stdout",
     "output_type": "stream",
     "text": [
      "Target: tensor([25., 39.])\n",
      "Pred:   [[24.909119 39.138577]]\n"
     ]
    },
    {
     "data": {
      "text/plain": [
       "<matplotlib.legend.Legend at 0x164d16e14f0>"
      ]
     },
     "execution_count": 85,
     "metadata": {},
     "output_type": "execute_result"
    },
    {
     "data": {
      "image/png": "[encoded data removed]",
      "text/plain": [
       "<Figure size 640x480 with 1 Axes>"
      ]
     },
     "metadata": {},
     "output_type": "display_data"
    }
   ],
   "source": [
    "idx = 100\n",
    "img, coords = test_examples[idx]\n",
    "pred = reg_model(img.reshape(-1, 64*64)).detach().numpy()\n",
    "\n",
    "print(f\"Target: {coords}\")\n",
    "print(f\"Pred:   {pred}\")\n",
    "\n",
    "plt.imshow(img.numpy().reshape((64,64)), cmap='gray')\n",
    "plt.scatter(coords[1], coords[0], linewidth=3.5, color='r', marker='*')\n",
    "plt.scatter(pred[0,1], pred[0,0], color='b', marker='o')\n",
    "plt.legend(['Target', 'Prediction'])"
   ]
  },
  {
   "cell_type": "markdown",
   "id": "d6ea910c",
   "metadata": {},
   "source": [
    "## 2. Остановка обучения"
   ]
  },
  {
   "cell_type": "code",
   "execution_count": 86,
   "id": "631f7b9e",
   "metadata": {},
   "outputs": [],
   "source": [
    "class EarlyStopping:\n",
    "    def __init__(self, mode='rel', patience=10, threshold=0.001, threshold_mode='rel'):\n",
    "        self.mode = mode\n",
    "        self.patience = patience\n",
    "        self.threshold = threshold\n",
    "        self.threshold_mode = threshold_mode\n",
    "        self.count = 0\n",
    "        self.best = None\n",
    "        \n",
    "    def __call__(self, tracked_parameter):\n",
    "        current = float(tracked_parameter)\n",
    "        if self.best is None:\n",
    "            self.best = current\n",
    "            return False\n",
    "        \n",
    "        if self.changed_better(current, self.best):\n",
    "            self.best = current\n",
    "            self.count = 0\n",
    "        else:\n",
    "            self.count += 1\n",
    "            \n",
    "        if self.count >= self.patience:\n",
    "            self.count = 0\n",
    "            return True\n",
    "    \n",
    "        return False\n",
    "    \n",
    "    def changed_better(self, current, best):\n",
    "        if self.mode == 'min' and self.threshold_mode == 'rel':\n",
    "            return current < best - best * self.threshold\n",
    "        \n",
    "        elif self.mode == 'min' and self.threshold_mode == 'abs':\n",
    "            return current < best - self.threshold\n",
    "        \n",
    "        elif self.mode == 'max' and self.threshold_mode == 'rel':\n",
    "            return current > best + best * self.threshold\n",
    "        \n",
    "        else:  # mode == 'max' and threshold_mode == 'abs':\n",
    "            return current > best + self.threshold"
   ]
  },
  {
   "cell_type": "code",
   "execution_count": 90,
   "id": "ee188765",
   "metadata": {},
   "outputs": [
    {
     "name": "stdout",
     "output_type": "stream",
     "text": [
      " ! Обучение остановлено на 20 эпохе.\n"
     ]
    }
   ],
   "source": [
    "early_stopping = EarlyStopping()\n",
    "\n",
    "EPOCHS = 100\n",
    "\n",
    "for epoch in range(20, EPOCHS):\n",
    "    # Train\n",
    "    for _ in range(1):\n",
    "        # forward\n",
    "        # backward\n",
    "        ...\n",
    "        \n",
    "    # Validation\n",
    "        # forward\n",
    "        \n",
    "    mean_loss = ...\n",
    "    \n",
    "    # Проверка на остановку\n",
    "    if True or early_stopping(mean_loss):\n",
    "        print(f\" ! Обучение остановлено на {epoch} эпохе.\")\n",
    "        break"
   ]
  },
  {
   "cell_type": "code",
   "execution_count": null,
   "id": "118c58a4",
   "metadata": {},
   "outputs": [],
   "source": []
  }
 ],
 "metadata": {
  "kernelspec": {
   "display_name": ".ML-venv",
   "language": "python",
   "name": "python3"
  },
  "language_info": {
   "codemirror_mode": {
    "name": "ipython",
    "version": 3
   },
   "file_extension": ".py",
   "mimetype": "text/x-python",
   "name": "python",
   "nbconvert_exporter": "python",
   "pygments_lexer": "ipython3",
   "version": "3.12.4"
  }
 },
 "nbformat": 4,
 "nbformat_minor": 5
}
