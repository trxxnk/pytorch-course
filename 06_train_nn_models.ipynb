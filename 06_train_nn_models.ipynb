{
 "cells": [
  {
   "cell_type": "markdown",
   "id": "fee8b464",
   "metadata": {},
   "source": [
    "# №6. Цикл обучения моделей"
   ]
  },
  {
   "cell_type": "code",
   "execution_count": 1,
   "id": "423c0245",
   "metadata": {},
   "outputs": [],
   "source": [
    "import torch\n",
    "import torch.nn as nn\n",
    "\n",
    "from torch.utils.data import Dataset, DataLoader, random_split\n",
    "\n",
    "import torchvision\n",
    "from torchvision.transforms import v2\n",
    "\n",
    "import os\n",
    "import matplotlib.pyplot as plt\n",
    "import numpy as np\n",
    "\n",
    "import json\n",
    "from tqdm import tqdm\n",
    "from PIL import Image"
   ]
  },
  {
   "cell_type": "code",
   "execution_count": 2,
   "id": "d3088e8e",
   "metadata": {},
   "outputs": [],
   "source": [
    "# plt.style.use('dark_background')"
   ]
  },
  {
   "cell_type": "markdown",
   "id": "b23f65c9",
   "metadata": {},
   "source": [
    "## 0. Общая логика цикла обучения модели"
   ]
  },
  {
   "cell_type": "markdown",
   "id": "fbc4dbf9",
   "metadata": {},
   "source": [
    "```python\n",
    "# 1_initialization\n",
    "model = MyModel()                          # Инициализация архитектуры модели\n",
    "optimizer = torch.optim.Adam()            # Создание оптимизатора\n",
    "criterion = nn.CrossEntropyLoss()         # Определение функции потерь\n",
    "\n",
    "# 2_training_loop\n",
    "for epoch in range(num_epochs):           # Цикл по эпохам\n",
    "    model.train()                         # Переключение в режим обучения\n",
    "    train_loss = 0.0\n",
    "    for batch_idx, (data, target) in enumerate(train_loader):\n",
    "        optimizer.zero_grad()             # ОБЯЗАТЕЛЬНО: обнуление градиентов\n",
    "        output = model(data)              # Прямой проход (forward pass)\n",
    "        loss = criterion(output, target)  # Расчет функции потерь\n",
    "        loss.backward()                   # Обратный проход (backward pass)\n",
    "        optimizer.step()                  # Шаг оптимизации (обновление весов)\n",
    "        train_loss += loss.item()         # Накопление лосса для статистики\n",
    "        predictions = output.argmax(dim=1) # Получение предсказаний\n",
    "    train_accuracy = calculate_accuracy() # Расчет метрик обучения\n",
    "\n",
    "# 3_validation_loop (inside training_loop)\n",
    "    model.eval()                              # Переключение в режим оценки\n",
    "    val_loss = 0.0\n",
    "    with torch.no_grad():                     # ОТКЛЮЧЕНИЕ вычислительного графа\n",
    "        for data, target in val_loader:\n",
    "            output = model(data)              # Только прямой проход\n",
    "            loss = criterion(output, target)  # Расчет потерь на валидации\n",
    "            val_loss += loss.item()           # Накопление лосса валидации\n",
    "            predictions = output.argmax(dim=1) # Предсказания для метрик\n",
    "    val_accuracy = calculate_accuracy()       # Расчет точности на валидации\n",
    "    val_losses.append(val_loss / len(val_loader)) # Сохранение метрик\n",
    "\n",
    "# 4_metrics_logging\n",
    "    print(f'Epoch {epoch+1}/{num_epochs}')    # Вывод прогресса\n",
    "    print(f'Train Loss: {train_loss/len(train_loader):.4f}')\n",
    "    print(f'Val Loss: {val_loss/len(val_loader):.4f}')\n",
    "    print(f'Val Accuracy: {val_accuracy:.4f}')\n",
    "    train_losses.append(train_loss)           # Сохранение для графиков\n",
    "    val_accuracies.append(val_accuracy)       # История метрик\n",
    "\n",
    "# 5_checkpoint_saving\n",
    "if val_accuracy > best_accuracy:          # Условное сохранение\n",
    "    best_accuracy = val_accuracy\n",
    "    torch.save(model.state_dict(), 'best_model.pth') # Сохранение весов\n",
    "    print('Модель сохранена!')\n",
    "\n",
    "# 6_visualization\n",
    "plt.plot(train_losses, label='Train Loss') # График обучения\n",
    "plt.plot(val_losses, label='Val Loss')     # График валидации\n",
    "plt.legend()\n",
    "plt.show()\n",
    "```"
   ]
  },
  {
   "cell_type": "markdown",
   "id": "713ef00e",
   "metadata": {},
   "source": [
    "## 1. MNIST"
   ]
  },
  {
   "cell_type": "code",
   "execution_count": 2,
   "id": "b2375b36",
   "metadata": {},
   "outputs": [
    {
     "data": {
      "text/plain": [
       "'cpu'"
      ]
     },
     "execution_count": 2,
     "metadata": {},
     "output_type": "execute_result"
    }
   ],
   "source": [
    "device = 'cuda' if torch.cuda.is_available() else 'cpu'\n",
    "device"
   ]
  },
  {
   "cell_type": "markdown",
   "id": "55bdb1bf",
   "metadata": {},
   "source": [
    "### 1.1 Создание **Dataset**"
   ]
  },
  {
   "cell_type": "code",
   "execution_count": null,
   "id": "ed246183",
   "metadata": {},
   "outputs": [],
   "source": [
    "class MNISTDataset(Dataset):\n",
    "    def __init__(self, path:str, transform=None):\n",
    "        self.path = path\n",
    "        self.transform = transform\n",
    "        \n",
    "        self.len_dataset = 0\n",
    "        self.data_list = []\n",
    "        \n",
    "        os_walk = os.walk(self.path)\n",
    "        path, dir_list, files = next(os_walk)\n",
    "        self.classes = dir_list\n",
    "        self.classes_to_index = {cls:i for i, cls in enumerate(sorted(self.classes))}\n",
    "        \n",
    "        for path, dir_list, files in os_walk:\n",
    "            \n",
    "            class_name = path.split(os.sep)[-1]\n",
    "            \n",
    "            for file in files:\n",
    "                file_path = os.path.join(path, file)\n",
    "                self.data_list.append((file_path, self.classes_to_index[class_name]))\n",
    "            self.len_dataset += len(files)\n",
    "            \n",
    "    def __len__(self):\n",
    "        return self.len_dataset\n",
    "    \n",
    "    def __getitem__(self, index:int):\n",
    "        file_path, class_index = self.data_list[index]\n",
    "        image = np.array(Image.open(file_path))\n",
    "        if self.transform is not None:\n",
    "            image = self.transform(image)\n",
    "        return image, class_index"
   ]
  },
  {
   "cell_type": "code",
   "execution_count": 5,
   "id": "455765d0",
   "metadata": {},
   "outputs": [],
   "source": [
    "transform = v2.Compose([\n",
    "    v2.ToImage(),\n",
    "    v2.ToDtype(torch.float32, scale=True),\n",
    "    v2.Normalize(mean=(0.5,), std=(0.5,))\n",
    "])"
   ]
  },
  {
   "cell_type": "code",
   "execution_count": 18,
   "id": "9da29f03",
   "metadata": {},
   "outputs": [
    {
     "data": {
      "text/plain": [
       "(60000, 10000)"
      ]
     },
     "execution_count": 18,
     "metadata": {},
     "output_type": "execute_result"
    }
   ],
   "source": [
    "MNIST_FOLDER = os.path.join('data', 'MNIST', 'generated')\n",
    "train_data = MNISTDataset(os.path.join(MNIST_FOLDER, 'train'), transform=transform)\n",
    "test_data = MNISTDataset(os.path.join(MNIST_FOLDER, 'test'), transform=transform)\n",
    "len(train_data), len(test_data)"
   ]
  },
  {
   "cell_type": "code",
   "execution_count": 19,
   "id": "203abc99",
   "metadata": {},
   "outputs": [
    {
     "data": {
      "text/plain": [
       "(42000, 18000)"
      ]
     },
     "execution_count": 19,
     "metadata": {},
     "output_type": "execute_result"
    }
   ],
   "source": [
    "train_data, val_data = random_split(train_data, [0.7, 0.3])\n",
    "len(train_data), len(val_data)"
   ]
  },
  {
   "cell_type": "code",
   "execution_count": 22,
   "id": "68740d55",
   "metadata": {},
   "outputs": [
    {
     "data": {
      "text/plain": [
       "(657, 282, 157)"
      ]
     },
     "execution_count": 22,
     "metadata": {},
     "output_type": "execute_result"
    }
   ],
   "source": [
    "BATCH_SIZE = 64\n",
    "train_loader = DataLoader(train_data, BATCH_SIZE, shuffle=True)\n",
    "val_loader = DataLoader(val_data, BATCH_SIZE, shuffle=False)\n",
    "test_loader = DataLoader(test_data, BATCH_SIZE, shuffle=False)\n",
    "len(train_loader), len(val_loader), len(test_loader)"
   ]
  },
  {
   "cell_type": "code",
   "execution_count": 23,
   "id": "37f07309",
   "metadata": {},
   "outputs": [],
   "source": [
    "class myModel(nn.Module):\n",
    "    def __init__(self, input, output):\n",
    "        super().__init__()\n",
    "        hidden_size = 128\n",
    "        self.layer_1 = nn.Linear(input, hidden_size)\n",
    "        self.layer_2 = nn.Linear(hidden_size, output)\n",
    "        self.act_func = nn.ReLU()\n",
    "        \n",
    "    def forward(self, x):\n",
    "        x = self.layer_1(x)\n",
    "        x = self.act_func(x)\n",
    "        out = self.layer_2(x)\n",
    "        return out"
   ]
  },
  {
   "cell_type": "code",
   "execution_count": 38,
   "id": "ee847e81",
   "metadata": {},
   "outputs": [
    {
     "data": {
      "text/plain": [
       "myModel(\n",
       "  (layer_1): Linear(in_features=784, out_features=128, bias=True)\n",
       "  (layer_2): Linear(in_features=128, out_features=10, bias=True)\n",
       "  (act_func): ReLU()\n",
       ")"
      ]
     },
     "execution_count": 38,
     "metadata": {},
     "output_type": "execute_result"
    }
   ],
   "source": [
    "model = myModel(784, 10).to(device)\n",
    "model"
   ]
  },
  {
   "cell_type": "code",
   "execution_count": 39,
   "id": "521f0577",
   "metadata": {},
   "outputs": [
    {
     "data": {
      "text/plain": [
       "torch.Size([16, 10])"
      ]
     },
     "execution_count": 39,
     "metadata": {},
     "output_type": "execute_result"
    }
   ],
   "source": [
    "x = torch.rand([16, 784], dtype=torch.float32).to(device)\n",
    "out = model(x)\n",
    "out.shape"
   ]
  },
  {
   "cell_type": "markdown",
   "id": "b3213444",
   "metadata": {},
   "source": [
    "*Формула категориальной кросс-энтропии:*\n",
    "$$ L = -\\frac{1}{n}\\sum_{i=1}^{n}\\sum_{c=1}^{C}y_{i,c}\\log(\\hat{y}_{i,c}) $$"
   ]
  },
  {
   "cell_type": "code",
   "execution_count": 40,
   "id": "4f0bdf2b",
   "metadata": {},
   "outputs": [
    {
     "data": {
      "text/plain": [
       "(CrossEntropyLoss(),\n",
       " Adam (\n",
       " Parameter Group 0\n",
       "     amsgrad: False\n",
       "     betas: (0.9, 0.999)\n",
       "     capturable: False\n",
       "     decoupled_weight_decay: False\n",
       "     differentiable: False\n",
       "     eps: 1e-08\n",
       "     foreach: None\n",
       "     fused: None\n",
       "     lr: 0.001\n",
       "     maximize: False\n",
       "     weight_decay: 0\n",
       " ))"
      ]
     },
     "execution_count": 40,
     "metadata": {},
     "output_type": "execute_result"
    }
   ],
   "source": [
    "loss_model = nn.CrossEntropyLoss() # Категориальная кросс-энтропия\n",
    "opt = torch.optim.Adam(model.parameters(), lr=0.001)\n",
    "loss_model, opt"
   ]
  },
  {
   "cell_type": "code",
   "execution_count": 41,
   "id": "cff92bda",
   "metadata": {},
   "outputs": [
    {
     "data": {
      "text/plain": [
       "0.9390698671340942"
      ]
     },
     "execution_count": 41,
     "metadata": {},
     "output_type": "execute_result"
    }
   ],
   "source": [
    "y_pred = torch.tensor([0.5, 0.25, 0.25])\n",
    "y_true = torch.tensor([1. , 0.  , 0.  ])\n",
    "loss_model(y_pred, y_true).item()"
   ]
  },
  {
   "cell_type": "code",
   "execution_count": null,
   "id": "934ddda5",
   "metadata": {},
   "outputs": [
    {
     "name": "stderr",
     "output_type": "stream",
     "text": [
      "                                                                                      \r"
     ]
    },
    {
     "name": "stdout",
     "output_type": "stream",
     "text": [
      "Epoch [1//2], train_loss=0.4312, train_acc=0.8746, val_loss=0.2984\n"
     ]
    },
    {
     "name": "stderr",
     "output_type": "stream",
     "text": [
      "                                                                                      \r"
     ]
    },
    {
     "name": "stdout",
     "output_type": "stream",
     "text": [
      "Epoch [2//2], train_loss=0.2388, train_acc=0.9311, val_loss=0.2079\n"
     ]
    }
   ],
   "source": [
    "EPOCHS = 2\n",
    "train_loss = []\n",
    "train_acc = []\n",
    "val_loss = []\n",
    "val_acc = []\n",
    "\n",
    "# Цикл обучения\n",
    "for epoch in range(EPOCHS):\n",
    "    \n",
    "    # Обучение модели\n",
    "    model.train()\n",
    "    running_train_loss = []\n",
    "    true_answer = 0\n",
    "    train_loop = tqdm(train_loader, leave=False)\n",
    "    \n",
    "    for x, targets in train_loop:\n",
    "        # Обработка данных\n",
    "        \n",
    "        # (batch_size, 1, 28, 28) --> (batch_size, 784)\n",
    "        x = x.reshape(-1, 784).to(device)\n",
    "        \n",
    "        # (batch_size, int) --> (butch_size, 10, dtype=torch.float32)\n",
    "        targets = targets.reshape(-1).to(torch.int32)\n",
    "        targets = torch.eye(10)[targets].to(device)\n",
    "        \n",
    "        # Прямой проход и расчет ошибки модели\n",
    "        pred = model(x)\n",
    "        loss = loss_model(pred, targets)\n",
    "        \n",
    "        # Обратный проход\n",
    "        opt.zero_grad() # обнуляем предыдущие градиенты\n",
    "        loss.backward() # вычисялем новые градиенты\n",
    "        opt.step()      # применяем шаг оптимизации\n",
    "        \n",
    "        running_train_loss.append(loss.item())\n",
    "        mean_train_loss = sum(running_train_loss)/len(running_train_loss)\n",
    "        \n",
    "        true_answer += (pred.argmax(dim=1) == targets.argmax(dim=1)).sum().item()\n",
    "        \n",
    "        desc = f\"Epoch [{epoch+1}/{EPOCHS}], {mean_train_loss=:.4f}\"\n",
    "        train_loop.set_description(desc)\n",
    "        \n",
    "    # Расчет значения точности после эпохи обучения\n",
    "    running_train_acc = true_answer / len(train_data)\n",
    "    \n",
    "    # Сохранение значений функции потерь и точности\n",
    "    train_loss.append(mean_train_loss)\n",
    "    train_acc.append(running_train_acc)\n",
    "    \n",
    "    # Валидация модели\n",
    "    model.eval()\n",
    "    with torch.no_grad():\n",
    "        running_val_loss = []\n",
    "        true_answer = 0\n",
    "        for x, targets in val_loader:\n",
    "            # Обработка данных\n",
    "        \n",
    "            # (batch_size, 1, 28, 28) --> (batch_size, 784)\n",
    "            x = x.reshape(-1, 784).to(device)\n",
    "            \n",
    "            # (batch_size, int) --> (butch_size, 10, dtype=torch.float32)\n",
    "            targets = targets.reshape(-1).to(torch.int32)\n",
    "            targets = torch.eye(10)[targets].to(device)\n",
    "            \n",
    "            # Прямой проход и расчет ошибки модели\n",
    "            pred = model(x)\n",
    "            loss = loss_model(pred, targets)\n",
    "    \n",
    "            running_val_loss.append(loss.item())\n",
    "            mean_val_loss = sum(running_val_loss)/len(running_val_loss)\n",
    "            \n",
    "            true_answer += (pred.argmax(dim=1) == targets.argmax(dim=1)).sum().item()\n",
    "    \n",
    "    # Расчет точности    \n",
    "    running_val_acc = true_answer / len(val_data)\n",
    "    \n",
    "    # Сохранение значений функции потерь и точности\n",
    "    val_loss.append(mean_val_loss)\n",
    "    val_acc.append(running_val_acc)\n",
    "    \n",
    "    info = \"Epoch [{}/{}], train_loss={:.4f}, train_acc={:.4f}, val_loss={:.4f}\" \\\n",
    "    .format(epoch+1, EPOCHS, mean_train_loss, running_train_acc, mean_val_loss)\n",
    "    \n",
    "    print(info)"
   ]
  },
  {
   "cell_type": "code",
   "execution_count": 46,
   "id": "5fd35b16",
   "metadata": {},
   "outputs": [
    {
     "data": {
      "image/png": "[encoded data removed]",
      "text/plain": [
       "<Figure size 640x480 with 1 Axes>"
      ]
     },
     "metadata": {},
     "output_type": "display_data"
    }
   ],
   "source": [
    "plt.plot(train_loss)\n",
    "plt.plot(val_loss)\n",
    "plt.legend(['loss_train', 'loss_val'])\n",
    "plt.show()"
   ]
  },
  {
   "cell_type": "code",
   "execution_count": 47,
   "id": "56f0133f",
   "metadata": {},
   "outputs": [
    {
     "data": {
      "image/png": "[encoded data removed]",
      "text/plain": [
       "<Figure size 640x480 with 1 Axes>"
      ]
     },
     "metadata": {},
     "output_type": "display_data"
    }
   ],
   "source": [
    "plt.plot(train_acc)\n",
    "plt.plot(val_acc)\n",
    "plt.legend(['acc_train', 'acc_val'])\n",
    "plt.show()"
   ]
  },
  {
   "cell_type": "markdown",
   "id": "2f53b4b0",
   "metadata": {},
   "source": [
    "## 2. Сгенерированные изображения (регрессия)"
   ]
  },
  {
   "cell_type": "code",
   "execution_count": null,
   "id": "7bc3e4f9",
   "metadata": {},
   "outputs": [],
   "source": [
    "class GenImagesDataset(Dataset):\n",
    "    def __init__(self, path:str, transform=None):\n",
    "        self.path = path\n",
    "        self.transform = transform\n",
    "        \n",
    "        self.list_file_names = os.listdir(self.path)\n",
    "        if 'coords.json' in self.list_file_names:\n",
    "            self.list_file_names.remove('coords.json')\n",
    "            \n",
    "        self.len_dataset = len(self.list_file_names)\n",
    "        \n",
    "        with open(os.path.join(self.path, 'coords.json'), 'r') as f:\n",
    "            self.coords = json.load(f)\n",
    "        \n",
    "    def __len__(self):\n",
    "        return self.len_dataset\n",
    "    \n",
    "    def __getitem__(self, index:int):\n",
    "        file_name = self.list_file_names[index]\n",
    "        path_img = os.path.join(self.path, file_name)\n",
    "        \n",
    "        img = Image.open(path_img)\n",
    "        coords = np.array(self.coords[file_name], dtype=np.float32)\n",
    "        \n",
    "        if self.transform is not None:\n",
    "            img = self.transform(img)\n",
    "            \n",
    "        return img, coords"
   ]
  },
  {
   "cell_type": "code",
   "execution_count": 35,
   "id": "4e908061",
   "metadata": {},
   "outputs": [],
   "source": [
    "transform = v2.Compose([\n",
    "    v2.ToImage(),\n",
    "    v2.ToDtype(torch.float32, scale=True),\n",
    "    v2.Normalize(mean=(0.5,), std=(0.5,))\n",
    "])"
   ]
  },
  {
   "cell_type": "code",
   "execution_count": 62,
   "id": "6ca30c5e",
   "metadata": {},
   "outputs": [
    {
     "data": {
      "text/plain": [
       "100000"
      ]
     },
     "execution_count": 62,
     "metadata": {},
     "output_type": "execute_result"
    }
   ],
   "source": [
    "GEN_IMAGES_FOLDER = os.path.join('data', 'GEN_IMAGES')\n",
    "dataset = GenImagesDataset(path=GEN_IMAGES_FOLDER, transform=transform)\n",
    "len(dataset)"
   ]
  },
  {
   "cell_type": "code",
   "execution_count": 63,
   "id": "d35f7414",
   "metadata": {},
   "outputs": [
    {
     "data": {
      "text/plain": [
       "array([24., 33.], dtype=float32)"
      ]
     },
     "execution_count": 63,
     "metadata": {},
     "output_type": "execute_result"
    },
    {
     "data": {
      "image/png": "[encoded data removed]",
      "text/plain": [
       "<Figure size 640x480 with 1 Axes>"
      ]
     },
     "metadata": {},
     "output_type": "display_data"
    }
   ],
   "source": [
    "idx = 52\n",
    "img, coords = dataset[idx]\n",
    "plt.imshow(img.numpy()[0], cmap='gray')\n",
    "plt.scatter(coords[1], coords[0], color='r', marker='*')\n",
    "coords"
   ]
  },
  {
   "cell_type": "code",
   "execution_count": 64,
   "id": "d50e9c24",
   "metadata": {},
   "outputs": [
    {
     "data": {
      "text/plain": [
       "(70000, 10000, 20000)"
      ]
     },
     "execution_count": 64,
     "metadata": {},
     "output_type": "execute_result"
    }
   ],
   "source": [
    "train_set, val_set, test_set = random_split(dataset, [0.7, 0.1, 0.2])\n",
    "len(train_set), len(val_set), len(test_set)"
   ]
  },
  {
   "cell_type": "code",
   "execution_count": 65,
   "id": "7c456a6e",
   "metadata": {},
   "outputs": [],
   "source": [
    "BATCH_SIZE=32\n",
    "train_loader = DataLoader(train_set, BATCH_SIZE, shuffle=True)\n",
    "val_loader = DataLoader(val_set, BATCH_SIZE, shuffle=True)\n",
    "test_loader = DataLoader(test_set, BATCH_SIZE, shuffle=False)"
   ]
  },
  {
   "cell_type": "code",
   "execution_count": 72,
   "id": "f298b6fa",
   "metadata": {},
   "outputs": [],
   "source": [
    "class myRegModel(nn.Module):\n",
    "    def __init__(self, input, output):\n",
    "        super().__init__()\n",
    "        hidden_size = 64\n",
    "        self.layer_1 = nn.Linear(input, hidden_size)\n",
    "        self.layer_2 = nn.Linear(hidden_size, output)\n",
    "        self.act_func = nn.ReLU()\n",
    "        \n",
    "    def forward(self, x):\n",
    "        x = self.layer_1(x)\n",
    "        x = self.act_func(x)\n",
    "        out = self.layer_2(x)\n",
    "        return out"
   ]
  },
  {
   "cell_type": "code",
   "execution_count": 73,
   "id": "a33a3b72",
   "metadata": {},
   "outputs": [
    {
     "data": {
      "text/plain": [
       "myRegModel(\n",
       "  (layer_1): Linear(in_features=4096, out_features=64, bias=True)\n",
       "  (layer_2): Linear(in_features=64, out_features=2, bias=True)\n",
       "  (act_func): ReLU()\n",
       ")"
      ]
     },
     "execution_count": 73,
     "metadata": {},
     "output_type": "execute_result"
    }
   ],
   "source": [
    "reg_model = myRegModel(64*64, 2)\n",
    "reg_model"
   ]
  },
  {
   "cell_type": "code",
   "execution_count": 74,
   "id": "449ba9db",
   "metadata": {},
   "outputs": [
    {
     "data": {
      "text/plain": [
       "(torch.Size([3, 2]),\n",
       " tensor([[ 0.0063, -0.0527],\n",
       "         [-0.2416, -0.2619],\n",
       "         [-0.0775, -0.2196]], grad_fn=<AddmmBackward0>))"
      ]
     },
     "execution_count": 74,
     "metadata": {},
     "output_type": "execute_result"
    }
   ],
   "source": [
    "x = torch.rand([3, 64*64], dtype=torch.float32).to(device)\n",
    "out = reg_model(x)\n",
    "out.shape, out"
   ]
  },
  {
   "cell_type": "code",
   "execution_count": 75,
   "id": "2b837d3f",
   "metadata": {},
   "outputs": [],
   "source": [
    "loss_reg_model = nn.MSELoss()\n",
    "reg_opt = torch.optim.Adam(reg_model.parameters(), lr=0.001)"
   ]
  },
  {
   "cell_type": "code",
   "execution_count": 76,
   "id": "01422f4b",
   "metadata": {},
   "outputs": [],
   "source": [
    "train_loss = []\n",
    "train_acc = []\n",
    "val_loss = []\n",
    "val_acc = []"
   ]
  },
  {
   "cell_type": "code",
   "execution_count": 77,
   "id": "f3445c5a",
   "metadata": {},
   "outputs": [
    {
     "name": "stderr",
     "output_type": "stream",
     "text": [
      "                                                                                        \r"
     ]
    },
    {
     "name": "stdout",
     "output_type": "stream",
     "text": [
      "Epoch [1/2], train_loss=4.3747, train_acc=0.6601, val_loss=0.0669\n"
     ]
    },
    {
     "name": "stderr",
     "output_type": "stream",
     "text": [
      "                                                                                        \r"
     ]
    },
    {
     "name": "stdout",
     "output_type": "stream",
     "text": [
      "Epoch [2/2], train_loss=0.0818, train_acc=0.8462, val_loss=0.0580\n"
     ]
    }
   ],
   "source": [
    "EPOCHS = 2\n",
    "\n",
    "# Цикл обучения\n",
    "for epoch in range(EPOCHS):\n",
    "    \n",
    "    # Обучение модели\n",
    "    reg_model.train()\n",
    "    running_train_loss = []\n",
    "    true_answer = 0\n",
    "    train_loop = tqdm(train_loader, leave=False)\n",
    "    \n",
    "    for x, targets in train_loop:\n",
    "        # Обработка данных\n",
    "        \n",
    "        # (batch_size, 1, 64, 64) --> (batch_size, 64*64)\n",
    "        x = x.reshape(-1, 64*64).to(device)\n",
    "        \n",
    "        targets = targets.to(device)\n",
    "        \n",
    "        # Прямой проход и расчет ошибки модели\n",
    "        pred = reg_model(x)\n",
    "        loss = loss_reg_model(pred, targets)\n",
    "        \n",
    "        # Обратный проход\n",
    "        reg_opt.zero_grad() # обнуляем предыдущие градиенты\n",
    "        loss.backward() # вычисялем новые градиенты\n",
    "        reg_opt.step()      # применяем шаг оптимизации\n",
    "        \n",
    "        running_train_loss.append(loss.item())\n",
    "        mean_train_loss = sum(running_train_loss)/len(running_train_loss)\n",
    "        \n",
    "        true_answer += (torch.round(pred) == targets).all(dim=1).sum().item()\n",
    "        \n",
    "        desc = f\"Epoch [{epoch+1}/{EPOCHS}], {mean_train_loss=:.4f}\"\n",
    "        train_loop.set_description(desc)\n",
    "        \n",
    "    # Расчет значения точности после эпохи обучения\n",
    "    running_train_acc = true_answer / len(train_set)\n",
    "    \n",
    "    # Сохранение значений функции потерь и точности\n",
    "    train_loss.append(mean_train_loss)\n",
    "    train_acc.append(running_train_acc)\n",
    "    \n",
    "    # Валидация модели\n",
    "    reg_model.eval()\n",
    "    with torch.no_grad():\n",
    "        running_val_loss = []\n",
    "        true_answer = 0\n",
    "        for x, targets in val_loader:\n",
    "            # Обработка данных\n",
    "        \n",
    "            # (batch_size, 1, 64, 64) --> (batch_size, 64*64)\n",
    "            x = x.reshape(-1, 64*64).to(device)\n",
    "            \n",
    "            targets = targets.to(device)\n",
    "            \n",
    "            # Прямой проход и расчет ошибки модели\n",
    "            pred = reg_model(x)\n",
    "            loss = loss_reg_model(pred, targets)\n",
    "    \n",
    "            running_val_loss.append(loss.item())\n",
    "            mean_val_loss = sum(running_val_loss)/len(running_val_loss)\n",
    "            \n",
    "            true_answer += (torch.round(pred) == targets).all(dim=1).sum().item()\n",
    "    \n",
    "    # Расчет точности    \n",
    "    running_val_acc = true_answer / len(val_set)\n",
    "    \n",
    "    # Сохранение значений функции потерь и точности\n",
    "    val_loss.append(mean_val_loss)\n",
    "    val_acc.append(running_val_acc)\n",
    "    \n",
    "    info = \"Epoch [{}/{}], train_loss={:.4f}, train_acc={:.4f}, val_loss={:.4f}\" \\\n",
    "    .format(epoch+1, EPOCHS, mean_train_loss, running_train_acc, mean_val_loss)\n",
    "    \n",
    "    print(info)"
   ]
  },
  {
   "cell_type": "code",
   "execution_count": 87,
   "id": "35b436b8",
   "metadata": {},
   "outputs": [
    {
     "data": {
      "image/png": "[encoded data removed]",
      "text/plain": [
       "<Figure size 640x480 with 1 Axes>"
      ]
     },
     "metadata": {},
     "output_type": "display_data"
    }
   ],
   "source": [
    "plt.plot(train_loss)\n",
    "plt.plot(val_loss)\n",
    "plt.legend(['loss_train', 'loss_val'])\n",
    "plt.show()"
   ]
  },
  {
   "cell_type": "code",
   "execution_count": 88,
   "id": "cfcc14f2",
   "metadata": {},
   "outputs": [
    {
     "data": {
      "image/png": "[encoded data removed]",
      "text/plain": [
       "<Figure size 640x480 with 1 Axes>"
      ]
     },
     "metadata": {},
     "output_type": "display_data"
    }
   ],
   "source": [
    "plt.plot(train_acc)\n",
    "plt.plot(val_acc)\n",
    "plt.legend(['acc_train', 'acc_val'])\n",
    "plt.show()"
   ]
  },
  {
   "cell_type": "code",
   "execution_count": 80,
   "id": "3464d192",
   "metadata": {},
   "outputs": [
    {
     "data": {
      "text/plain": [
       "(array([34., 37.], dtype=float32),\n",
       " tensor([[33.8986, 36.9578]], grad_fn=<AddmmBackward0>))"
      ]
     },
     "execution_count": 80,
     "metadata": {},
     "output_type": "execute_result"
    },
    {
     "data": {
      "image/png": "[encoded data removed]",
      "text/plain": [
       "<Figure size 640x480 with 1 Axes>"
      ]
     },
     "metadata": {},
     "output_type": "display_data"
    }
   ],
   "source": [
    "idx = 100\n",
    "img, coords = dataset[idx]\n",
    "ans_coords = reg_model(img.reshape(-1, 64*64).to(device))\n",
    "plt.imshow(img.numpy()[0], cmap='gray')\n",
    "plt.scatter(coords[1], coords[0], color='r', marker='*')\n",
    "plt.scatter(ans_coords[0,1].item(), ans_coords[0,0].item(), color='b', marker='.')\n",
    "coords, ans_coords"
   ]
  },
  {
   "cell_type": "code",
   "execution_count": null,
   "id": "03979298",
   "metadata": {},
   "outputs": [],
   "source": [
    "# Выгружаем словарь с информацией о состоянии модели\n",
    "torch.save(reg_model.state_dict(), \"models/reg_model_state_dict_10092025_1118.pt\")"
   ]
  },
  {
   "cell_type": "code",
   "execution_count": null,
   "id": "6141cf7e",
   "metadata": {},
   "outputs": [
    {
     "data": {
      "text/plain": [
       "myRegModel(\n",
       "  (layer_1): Linear(in_features=4096, out_features=64, bias=True)\n",
       "  (layer_2): Linear(in_features=64, out_features=2, bias=True)\n",
       "  (act_func): ReLU()\n",
       ")"
      ]
     },
     "execution_count": 84,
     "metadata": {},
     "output_type": "execute_result"
    }
   ],
   "source": [
    "# Загрузка словаря состояния модели и создание новой модели\n",
    "# по загруженному словарю состояния\n",
    "param_model = torch.load(\"models/reg_model_state_dict_10092025_1118.pt\")\n",
    "loaded_reg_model = myRegModel(64*64, 2).to(device)\n",
    "loaded_reg_model.load_state_dict(param_model)\n",
    "loaded_reg_model"
   ]
  },
  {
   "cell_type": "code",
   "execution_count": null,
   "id": "27d02930",
   "metadata": {},
   "outputs": [
    {
     "data": {
      "text/plain": [
       "(array([21., 28.], dtype=float32),\n",
       " tensor([[20.8698, 28.0701]], grad_fn=<AddmmBackward0>))"
      ]
     },
     "execution_count": 86,
     "metadata": {},
     "output_type": "execute_result"
    },
    {
     "data": {
      "image/png": "[encoded data removed]",
      "text/plain": [
       "<Figure size 640x480 with 1 Axes>"
      ]
     },
     "metadata": {},
     "output_type": "display_data"
    }
   ],
   "source": [
    "# Тестируем загруженную модель\n",
    "idx = 10101\n",
    "img, coords = dataset[idx]\n",
    "ans_coords = loaded_reg_model(img.reshape(-1, 64*64).to(device))\n",
    "plt.imshow(img.numpy()[0], cmap='gray')\n",
    "plt.scatter(coords[1], coords[0], color='r', marker='*')\n",
    "plt.scatter(ans_coords[0,1].item(), ans_coords[0,0].item(), color='b', marker='.')\n",
    "coords, ans_coords"
   ]
  }
 ],
 "metadata": {
  "kernelspec": {
   "display_name": ".ML-venv",
   "language": "python",
   "name": "python3"
  },
  "language_info": {
   "codemirror_mode": {
    "name": "ipython",
    "version": 3
   },
   "file_extension": ".py",
   "mimetype": "text/x-python",
   "name": "python",
   "nbconvert_exporter": "python",
   "pygments_lexer": "ipython3",
   "version": "3.12.4"
  }
 },
 "nbformat": 4,
 "nbformat_minor": 5
}
