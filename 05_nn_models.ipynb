{
 "cells": [
  {
   "cell_type": "markdown",
   "id": "71075318",
   "metadata": {},
   "source": [
    "# №5. Составление моделей НС"
   ]
  },
  {
   "cell_type": "code",
   "execution_count": 1,
   "id": "f1a672d9",
   "metadata": {},
   "outputs": [],
   "source": [
    "import torch\n",
    "import torch.nn as nn"
   ]
  },
  {
   "cell_type": "markdown",
   "id": "5f9347fd",
   "metadata": {},
   "source": [
    "## 1. nn.__Sequential__"
   ]
  },
  {
   "cell_type": "code",
   "execution_count": 2,
   "id": "1f5f3341",
   "metadata": {},
   "outputs": [],
   "source": [
    "model = nn.Sequential(\n",
    "    nn.Linear(784, 128),\n",
    "    nn.ReLU(),\n",
    "    nn.Linear(128, 10)\n",
    ")"
   ]
  },
  {
   "cell_type": "code",
   "execution_count": 3,
   "id": "f84d6b21",
   "metadata": {},
   "outputs": [
    {
     "data": {
      "text/plain": [
       "Sequential(\n",
       "  (0): Linear(in_features=784, out_features=128, bias=True)\n",
       "  (1): ReLU()\n",
       "  (2): Linear(in_features=128, out_features=10, bias=True)\n",
       ")"
      ]
     },
     "execution_count": 3,
     "metadata": {},
     "output_type": "execute_result"
    }
   ],
   "source": [
    "model"
   ]
  },
  {
   "cell_type": "code",
   "execution_count": 6,
   "id": "aef185d5",
   "metadata": {},
   "outputs": [
    {
     "data": {
      "text/plain": [
       "torch.Size([16, 10])"
      ]
     },
     "execution_count": 6,
     "metadata": {},
     "output_type": "execute_result"
    }
   ],
   "source": [
    "x = torch.rand([16, 784], dtype=torch.float32)\n",
    "out = model(x)\n",
    "out.shape"
   ]
  },
  {
   "cell_type": "code",
   "execution_count": 9,
   "id": "0b88407f",
   "metadata": {},
   "outputs": [
    {
     "data": {
      "text/plain": [
       "odict_keys(['0.weight', '0.bias', '2.weight', '2.bias'])"
      ]
     },
     "execution_count": 9,
     "metadata": {},
     "output_type": "execute_result"
    }
   ],
   "source": [
    "model.state_dict().keys()"
   ]
  },
  {
   "cell_type": "code",
   "execution_count": 10,
   "id": "9e970aa2",
   "metadata": {},
   "outputs": [
    {
     "data": {
      "text/plain": [
       "tensor([-0.0176,  0.0242,  0.0034,  0.0239, -0.0010, -0.0163, -0.0325,  0.0056,\n",
       "         0.0089,  0.0021, -0.0026,  0.0286,  0.0109, -0.0193,  0.0042, -0.0231,\n",
       "         0.0170, -0.0015,  0.0313, -0.0140,  0.0313, -0.0032, -0.0175, -0.0288,\n",
       "         0.0107,  0.0073, -0.0318,  0.0302, -0.0069, -0.0158, -0.0167, -0.0265,\n",
       "         0.0356, -0.0316, -0.0189, -0.0193,  0.0335,  0.0308, -0.0039,  0.0271,\n",
       "        -0.0023, -0.0159,  0.0323,  0.0074, -0.0220,  0.0336,  0.0289, -0.0253,\n",
       "        -0.0342, -0.0353, -0.0002, -0.0336, -0.0349,  0.0052,  0.0269, -0.0111,\n",
       "        -0.0254,  0.0012,  0.0189, -0.0256, -0.0296, -0.0144, -0.0146, -0.0248,\n",
       "        -0.0098, -0.0203, -0.0271, -0.0251, -0.0168, -0.0155,  0.0158,  0.0340,\n",
       "        -0.0074, -0.0034, -0.0224, -0.0349,  0.0060,  0.0004,  0.0157,  0.0325,\n",
       "        -0.0113,  0.0055, -0.0187,  0.0026,  0.0156, -0.0265, -0.0288,  0.0259,\n",
       "         0.0028, -0.0338, -0.0303,  0.0117, -0.0299,  0.0236, -0.0026, -0.0345,\n",
       "         0.0218, -0.0289, -0.0329, -0.0255,  0.0204, -0.0112, -0.0028,  0.0302,\n",
       "        -0.0262, -0.0244, -0.0013, -0.0217, -0.0338,  0.0187, -0.0154,  0.0332,\n",
       "         0.0103, -0.0190, -0.0318, -0.0056,  0.0310,  0.0293,  0.0058, -0.0287,\n",
       "        -0.0059, -0.0160, -0.0236, -0.0188,  0.0168,  0.0342, -0.0082, -0.0095])"
      ]
     },
     "execution_count": 10,
     "metadata": {},
     "output_type": "execute_result"
    }
   ],
   "source": [
    "model.state_dict()['0.bias']"
   ]
  },
  {
   "cell_type": "code",
   "execution_count": 11,
   "id": "2f574259",
   "metadata": {},
   "outputs": [
    {
     "name": "stdout",
     "output_type": "stream",
     "text": [
      "Parameter containing:\n",
      "tensor([[ 0.0113,  0.0204, -0.0318,  ...,  0.0058, -0.0090, -0.0023],\n",
      "        [-0.0055,  0.0020,  0.0335,  ..., -0.0321,  0.0205, -0.0295],\n",
      "        [ 0.0248, -0.0019,  0.0071,  ...,  0.0080, -0.0241,  0.0081],\n",
      "        ...,\n",
      "        [-0.0013,  0.0302, -0.0067,  ..., -0.0036,  0.0033,  0.0106],\n",
      "        [-0.0045,  0.0159,  0.0110,  ..., -0.0349, -0.0175, -0.0061],\n",
      "        [-0.0302,  0.0184, -0.0196,  ..., -0.0017, -0.0230,  0.0205]],\n",
      "       requires_grad=True)\n",
      "torch.Size([128, 784])\n"
     ]
    }
   ],
   "source": [
    "for parameter in model.parameters():\n",
    "    print(parameter)\n",
    "    print(parameter.shape)\n",
    "    break"
   ]
  },
  {
   "cell_type": "code",
   "execution_count": 12,
   "id": "2bc6c639",
   "metadata": {},
   "outputs": [
    {
     "data": {
      "text/plain": [
       "Sequential(\n",
       "  (0): Linear(in_features=784, out_features=128, bias=True)\n",
       "  (1): ReLU()\n",
       "  (2): Linear(in_features=128, out_features=10, bias=True)\n",
       ")"
      ]
     },
     "execution_count": 12,
     "metadata": {},
     "output_type": "execute_result"
    }
   ],
   "source": [
    "# Для тренировки модели (есть какой-то прикол с dropout)\n",
    "model.train()\n",
    "model.eval()"
   ]
  },
  {
   "cell_type": "markdown",
   "id": "aae21355",
   "metadata": {},
   "source": [
    "## 2. model.__add_module__"
   ]
  },
  {
   "cell_type": "code",
   "execution_count": 13,
   "id": "4a7503ae",
   "metadata": {},
   "outputs": [],
   "source": [
    "model = nn.Sequential()\n",
    "model.add_module('layer_1', nn.Linear(784, 128))\n",
    "model.add_module('relu', nn.ReLU())\n",
    "model.add_module('layer_2', nn.Linear(128, 10))"
   ]
  },
  {
   "cell_type": "code",
   "execution_count": 14,
   "id": "4b577832",
   "metadata": {},
   "outputs": [
    {
     "data": {
      "text/plain": [
       "Sequential(\n",
       "  (layer_1): Linear(in_features=784, out_features=128, bias=True)\n",
       "  (relu): ReLU()\n",
       "  (layer_2): Linear(in_features=128, out_features=10, bias=True)\n",
       ")"
      ]
     },
     "execution_count": 14,
     "metadata": {},
     "output_type": "execute_result"
    }
   ],
   "source": [
    "model"
   ]
  },
  {
   "cell_type": "code",
   "execution_count": 15,
   "id": "4911dbb8",
   "metadata": {},
   "outputs": [
    {
     "data": {
      "text/plain": [
       "(Linear(in_features=784, out_features=128, bias=True), ReLU())"
      ]
     },
     "execution_count": 15,
     "metadata": {},
     "output_type": "execute_result"
    }
   ],
   "source": [
    "model.layer_1, model.relu"
   ]
  },
  {
   "cell_type": "code",
   "execution_count": 18,
   "id": "20e2a6f5",
   "metadata": {},
   "outputs": [
    {
     "data": {
      "text/plain": [
       "odict_keys(['layer_1.weight', 'layer_1.bias', 'layer_2.weight', 'layer_2.bias'])"
      ]
     },
     "execution_count": 18,
     "metadata": {},
     "output_type": "execute_result"
    }
   ],
   "source": [
    "model.state_dict().keys()"
   ]
  },
  {
   "cell_type": "markdown",
   "id": "e5439fd3",
   "metadata": {},
   "source": [
    "## 3. __class__ myModel"
   ]
  },
  {
   "cell_type": "code",
   "execution_count": 19,
   "id": "7f24d36c",
   "metadata": {},
   "outputs": [],
   "source": [
    "class MyModel(nn.Module):\n",
    "    def __init__(self, input, output):\n",
    "        super().__init__()\n",
    "        self.layer_1 = nn.Linear(input, 128)\n",
    "        self.layer_2 = nn.Linear(128, output)\n",
    "        self.act_func = nn.ReLU()\n",
    "        \n",
    "    def forward(self, x):\n",
    "        x = self.layer_1(x)\n",
    "        x = self.act_func(x)\n",
    "        out = self.layer_2(x)\n",
    "        return out"
   ]
  },
  {
   "cell_type": "code",
   "execution_count": 21,
   "id": "103e0f3a",
   "metadata": {},
   "outputs": [
    {
     "data": {
      "text/plain": [
       "MyModel(\n",
       "  (layer_1): Linear(in_features=784, out_features=128, bias=True)\n",
       "  (layer_2): Linear(in_features=128, out_features=10, bias=True)\n",
       "  (act_func): ReLU()\n",
       ")"
      ]
     },
     "execution_count": 21,
     "metadata": {},
     "output_type": "execute_result"
    }
   ],
   "source": [
    "model = MyModel(784, 10)\n",
    "model"
   ]
  },
  {
   "cell_type": "code",
   "execution_count": 25,
   "id": "ca1efe17",
   "metadata": {},
   "outputs": [
    {
     "data": {
      "text/plain": [
       "torch.Size([16, 10])"
      ]
     },
     "execution_count": 25,
     "metadata": {},
     "output_type": "execute_result"
    }
   ],
   "source": [
    "x = torch.rand([16, 784], dtype=torch.float32)\n",
    "out = model(x)\n",
    "out.shape"
   ]
  },
  {
   "cell_type": "code",
   "execution_count": 27,
   "id": "19468d46",
   "metadata": {},
   "outputs": [
    {
     "data": {
      "text/plain": [
       "(torch.Size([10]),\n",
       " tensor([-0.0443,  0.1750, -0.0504,  0.0315, -0.1435, -0.1335,  0.1018,  0.0016,\n",
       "         -0.0040,  0.1839], grad_fn=<ViewBackward0>))"
      ]
     },
     "execution_count": 27,
     "metadata": {},
     "output_type": "execute_result"
    }
   ],
   "source": [
    "x = torch.rand([784], dtype=torch.float32)\n",
    "out = model(x)\n",
    "out.shape, out"
   ]
  },
  {
   "cell_type": "markdown",
   "id": "86258350",
   "metadata": {},
   "source": [
    "Модель с двумя входами (X, y) и двумя выходами (out, after_relu)"
   ]
  },
  {
   "cell_type": "markdown",
   "id": "73fc7e17",
   "metadata": {},
   "source": [
    "<img src=\"data/my_images/nn_schema.png\" width=200>"
   ]
  },
  {
   "cell_type": "code",
   "execution_count": 36,
   "id": "da95d9c2",
   "metadata": {},
   "outputs": [],
   "source": [
    "# модель с 2-мя входами и 2-мя выходами\n",
    "class MyModel(nn.Module):\n",
    "    def __init__(self, input, output):\n",
    "        super().__init__()\n",
    "        self.layer_1 = nn.Linear(input, 128)\n",
    "        self.layer_2 = nn.Linear(128, output)\n",
    "        self.act_func = nn.ReLU()\n",
    "        \n",
    "    def forward(self, x, y):\n",
    "        x = self.layer_1(x)\n",
    "        x = self.act_func(x + y)\n",
    "        out = self.layer_2(x)\n",
    "        return out, x"
   ]
  },
  {
   "cell_type": "code",
   "execution_count": 37,
   "id": "980c5aac",
   "metadata": {},
   "outputs": [
    {
     "data": {
      "text/plain": [
       "MyModel(\n",
       "  (layer_1): Linear(in_features=784, out_features=128, bias=True)\n",
       "  (layer_2): Linear(in_features=128, out_features=10, bias=True)\n",
       "  (act_func): ReLU()\n",
       ")"
      ]
     },
     "execution_count": 37,
     "metadata": {},
     "output_type": "execute_result"
    }
   ],
   "source": [
    "model = MyModel(784, 10)\n",
    "model"
   ]
  },
  {
   "cell_type": "code",
   "execution_count": 38,
   "id": "d5c93de0",
   "metadata": {},
   "outputs": [
    {
     "data": {
      "text/plain": [
       "(torch.Size([16, 10]), torch.Size([16, 128]))"
      ]
     },
     "execution_count": 38,
     "metadata": {},
     "output_type": "execute_result"
    }
   ],
   "source": [
    "x = torch.rand([16, 784], dtype=torch.float32)\n",
    "y = torch.rand([16, 128], dtype=torch.float32)\n",
    "\n",
    "out = model(x, y)\n",
    "out[0].shape, out[1].shape"
   ]
  },
  {
   "cell_type": "markdown",
   "id": "197c509d",
   "metadata": {},
   "source": [
    "## 4. nn.**ModuleDict** & nn.**ModuleList**"
   ]
  },
  {
   "cell_type": "code",
   "execution_count": 47,
   "id": "b3c1fc1c",
   "metadata": {},
   "outputs": [],
   "source": [
    "class MyModel(nn.Module):\n",
    "    def __init__(self, input, output, hidden_size=2048, activation_func='relu'):\n",
    "        super().__init__()\n",
    "        # словарь для простой смены функции потерь\n",
    "        self.activations = nn.ModuleDict({\n",
    "            'lrelu':nn.LeakyReLU(),\n",
    "            'relu':nn.ReLU()\n",
    "        })\n",
    "        # слои можно хранить в ModuleList\n",
    "        self.layers = nn.ModuleList()\n",
    "        for i in range(10):\n",
    "            lin = nn.Linear(input, hidden_size)\n",
    "            lin_name = f'layer_{i}'\n",
    "            self.layers.add_module(name=lin_name, module=lin)\n",
    "            # теперь можно давать названия слоям для удобства\n",
    "            self.layers.add_module(name=f'act_{i}', module=self.activations[activation_func])\n",
    "            input = hidden_size\n",
    "            hidden_size //= 2\n",
    "        last_lin = nn.Linear(input, output)\n",
    "        self.layers.add_module(*('layer_out', last_lin))\n",
    "    \n",
    "    def forward(self, x):\n",
    "        outputs = []\n",
    "        for i, layer in enumerate(self.layers):\n",
    "            x = layer(x)\n",
    "            if i % 2 == 0 and i % 4 != 0: # каждый второй через одного\n",
    "                outputs.append(x)\n",
    "        outputs.append(x) # выход последнего слоя\n",
    "        return outputs"
   ]
  },
  {
   "cell_type": "code",
   "execution_count": 48,
   "id": "fa6882eb",
   "metadata": {},
   "outputs": [
    {
     "data": {
      "text/plain": [
       "MyModel(\n",
       "  (activations): ModuleDict(\n",
       "    (lrelu): LeakyReLU(negative_slope=0.01)\n",
       "    (relu): ReLU()\n",
       "  )\n",
       "  (layers): ModuleList(\n",
       "    (0): Linear(in_features=784, out_features=2048, bias=True)\n",
       "    (1): ReLU()\n",
       "    (2): Linear(in_features=2048, out_features=1024, bias=True)\n",
       "    (3): ReLU()\n",
       "    (4): Linear(in_features=1024, out_features=512, bias=True)\n",
       "    (5): ReLU()\n",
       "    (6): Linear(in_features=512, out_features=256, bias=True)\n",
       "    (7): ReLU()\n",
       "    (8): Linear(in_features=256, out_features=128, bias=True)\n",
       "    (9): ReLU()\n",
       "    (10): Linear(in_features=128, out_features=64, bias=True)\n",
       "    (11): ReLU()\n",
       "    (12): Linear(in_features=64, out_features=32, bias=True)\n",
       "    (13): ReLU()\n",
       "    (14): Linear(in_features=32, out_features=16, bias=True)\n",
       "    (15): ReLU()\n",
       "    (16): Linear(in_features=16, out_features=8, bias=True)\n",
       "    (17): ReLU()\n",
       "    (18): Linear(in_features=8, out_features=4, bias=True)\n",
       "    (19): ReLU()\n",
       "    (20): Linear(in_features=4, out_features=2, bias=True)\n",
       "  )\n",
       ")"
      ]
     },
     "execution_count": 48,
     "metadata": {},
     "output_type": "execute_result"
    }
   ],
   "source": [
    "model = MyModel(784, 2)\n",
    "model"
   ]
  },
  {
   "cell_type": "code",
   "execution_count": null,
   "id": "6dfd4adf",
   "metadata": {},
   "outputs": [
    {
     "data": {
      "text/plain": [
       "(6, torch.Size([16, 256]))"
      ]
     },
     "execution_count": 49,
     "metadata": {},
     "output_type": "execute_result"
    }
   ],
   "source": [
    "x = torch.rand([16, 784])\n",
    "out = model(x)\n",
    "len(out)"
   ]
  },
  {
   "cell_type": "code",
   "execution_count": 51,
   "id": "785e4434",
   "metadata": {},
   "outputs": [
    {
     "name": "stdout",
     "output_type": "stream",
     "text": [
      "out[0].shape=torch.Size([16, 1024])\n",
      "out[1].shape=torch.Size([16, 256])\n",
      "out[2].shape=torch.Size([16, 64])\n",
      "out[3].shape=torch.Size([16, 16])\n",
      "out[4].shape=torch.Size([16, 4])\n",
      "out[5].shape=torch.Size([16, 2])\n"
     ]
    }
   ],
   "source": [
    "for i in range(6):\n",
    "    print(f'out[{i}].shape={out[i].shape}')"
   ]
  }
 ],
 "metadata": {
  "kernelspec": {
   "display_name": ".ML-venv",
   "language": "python",
   "name": "python3"
  },
  "language_info": {
   "codemirror_mode": {
    "name": "ipython",
    "version": 3
   },
   "file_extension": ".py",
   "mimetype": "text/x-python",
   "name": "python",
   "nbconvert_exporter": "python",
   "pygments_lexer": "ipython3",
   "version": "3.12.4"
  }
 },
 "nbformat": 4,
 "nbformat_minor": 5
}
