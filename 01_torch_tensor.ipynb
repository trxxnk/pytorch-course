{
 "cells": [
  {
   "cell_type": "markdown",
   "id": "5779fd08",
   "metadata": {},
   "source": [
    "# №1. Тензоры в `torch`"
   ]
  },
  {
   "cell_type": "code",
   "execution_count": 1,
   "id": "4f73d766",
   "metadata": {},
   "outputs": [],
   "source": [
    "import torch"
   ]
  },
  {
   "cell_type": "code",
   "execution_count": 17,
   "id": "5c10afc3",
   "metadata": {},
   "outputs": [
    {
     "name": "stdout",
     "output_type": "stream",
     "text": [
      "torch.__version__='2.8.0+cpu'\n",
      "torch.version.cuda=None\n",
      "torch.cuda.is_available()=False\n"
     ]
    }
   ],
   "source": [
    "print(f\"{torch.__version__=}\")\n",
    "print(f\"{torch.version.cuda=}\")\n",
    "print(f\"{torch.cuda.is_available()=}\")\n",
    "# print(f\"{torch.cuda.get_device_name(0)=}\") # AssertionError: Torch not compiled with CUDA enabled"
   ]
  },
  {
   "cell_type": "code",
   "execution_count": 2,
   "id": "072d4f94",
   "metadata": {},
   "outputs": [
    {
     "data": {
      "text/plain": [
       "'\\ntorch.tensor() <--> numpy.array()\\n'"
      ]
     },
     "execution_count": 2,
     "metadata": {},
     "output_type": "execute_result"
    }
   ],
   "source": [
    "\"\"\"\n",
    "torch.tensor() <--> numpy.array()\n",
    "\"\"\""
   ]
  },
  {
   "cell_type": "code",
   "execution_count": 4,
   "id": "bca3a7ff",
   "metadata": {},
   "outputs": [
    {
     "data": {
      "text/plain": [
       "[tensor([1, 2, 3]), tensor([1., 2., 3.]), tensor([1, 2, 3], dtype=torch.int32)]"
      ]
     },
     "execution_count": 4,
     "metadata": {},
     "output_type": "execute_result"
    }
   ],
   "source": [
    "[\n",
    "torch.tensor([1, 2, 3]),\n",
    "torch.tensor([1, 2, 3], dtype=torch.float32), \n",
    "torch.tensor([1, 2, 3], dtype=torch.int32),\n",
    "]"
   ]
  },
  {
   "cell_type": "code",
   "execution_count": 6,
   "id": "13ad2245",
   "metadata": {},
   "outputs": [
    {
     "data": {
      "text/plain": [
       "tensor([1., 2., 3.], requires_grad=True)"
      ]
     },
     "execution_count": 6,
     "metadata": {},
     "output_type": "execute_result"
    }
   ],
   "source": [
    "torch.tensor([1, 2, 3], dtype=torch.float32, requires_grad=True)"
   ]
  },
  {
   "cell_type": "code",
   "execution_count": 7,
   "id": "046cdc7c",
   "metadata": {},
   "outputs": [
    {
     "ename": "RuntimeError",
     "evalue": "Only Tensors of floating point and complex dtype can require gradients",
     "output_type": "error",
     "traceback": [
      "\u001b[1;31m---------------------------------------------------------------------------\u001b[0m",
      "\u001b[1;31mRuntimeError\u001b[0m                              Traceback (most recent call last)",
      "Cell \u001b[1;32mIn[7], line 1\u001b[0m\n\u001b[1;32m----> 1\u001b[0m \u001b[43mtorch\u001b[49m\u001b[38;5;241;43m.\u001b[39;49m\u001b[43mtensor\u001b[49m\u001b[43m(\u001b[49m\u001b[43m[\u001b[49m\u001b[38;5;241;43m1\u001b[39;49m\u001b[43m,\u001b[49m\u001b[43m \u001b[49m\u001b[38;5;241;43m2\u001b[39;49m\u001b[43m,\u001b[49m\u001b[43m \u001b[49m\u001b[38;5;241;43m3\u001b[39;49m\u001b[43m]\u001b[49m\u001b[43m,\u001b[49m\u001b[43m \u001b[49m\u001b[43mrequires_grad\u001b[49m\u001b[38;5;241;43m=\u001b[39;49m\u001b[38;5;28;43;01mTrue\u001b[39;49;00m\u001b[43m)\u001b[49m\n",
      "\u001b[1;31mRuntimeError\u001b[0m: Only Tensors of floating point and complex dtype can require gradients"
     ]
    }
   ],
   "source": [
    "torch.tensor([1, 2, 3], requires_grad=True)"
   ]
  },
  {
   "cell_type": "code",
   "execution_count": 19,
   "id": "9944ce49",
   "metadata": {},
   "outputs": [
    {
     "name": "stdout",
     "output_type": "stream",
     "text": [
      "Torch not compiled with CUDA enabled\n"
     ]
    }
   ],
   "source": [
    "try:\n",
    "    torch.tensor([1, 2, 3], requires_grad=True, device=torch.device(\"cuda:0\"))\n",
    "except AssertionError as e:\n",
    "    print(e)"
   ]
  },
  {
   "cell_type": "code",
   "execution_count": 20,
   "id": "76ff0f94",
   "metadata": {},
   "outputs": [
    {
     "name": "stdout",
     "output_type": "stream",
     "text": [
      "t.dtype=torch.float32\n",
      "t.shape=torch.Size([2, 3])\n",
      "t.size()=torch.Size([2, 3])\n",
      "t.ndim=2\n",
      "t.numel()=6\n"
     ]
    }
   ],
   "source": [
    "t = torch.tensor([[1, 2, 3], [4, 5, 6]], dtype=torch.float32)\n",
    "print(f\"{t.dtype=}\")\n",
    "print(f\"{t.shape=}\")\n",
    "print(f\"{t.size()=}\")\n",
    "print(f\"{t.ndim=}\")\n",
    "print(f\"{t.numel()=}\")"
   ]
  },
  {
   "cell_type": "code",
   "execution_count": 22,
   "id": "861d190c",
   "metadata": {},
   "outputs": [
    {
     "data": {
      "text/plain": [
       "(tensor(1.), 1.0)"
      ]
     },
     "execution_count": 22,
     "metadata": {},
     "output_type": "execute_result"
    }
   ],
   "source": [
    "t[0,0], t[0,0].item()"
   ]
  },
  {
   "cell_type": "code",
   "execution_count": null,
   "id": "c75616d3",
   "metadata": {},
   "outputs": [
    {
     "data": {
      "text/plain": [
       "tensor([[0., 0., 0., 0.],\n",
       "        [0., 0., 0., 0.],\n",
       "        [0., 0., 0., 0.]])"
      ]
     },
     "execution_count": 25,
     "metadata": {},
     "output_type": "execute_result"
    }
   ],
   "source": [
    "torch.zeros([3,4], dtype=torch.float32) # и др. функции как в numpy"
   ]
  },
  {
   "cell_type": "code",
   "execution_count": 31,
   "id": "639823c1",
   "metadata": {},
   "outputs": [],
   "source": [
    "t1 = torch.zeros([3,4], dtype=torch.float32)\n",
    "t2 = torch.ones([3,4], dtype=torch.float32) * 5\n",
    "t3 = t1 + t2"
   ]
  },
  {
   "cell_type": "code",
   "execution_count": 32,
   "id": "3308a232",
   "metadata": {},
   "outputs": [
    {
     "data": {
      "text/plain": [
       "(60.0, 5.0)"
      ]
     },
     "execution_count": 32,
     "metadata": {},
     "output_type": "execute_result"
    }
   ],
   "source": [
    "t3.sum().item(), t3.mean().item()"
   ]
  },
  {
   "cell_type": "code",
   "execution_count": null,
   "id": "dd49c6ee",
   "metadata": {},
   "outputs": [
    {
     "data": {
      "text/plain": [
       "(tensor([[5., 5., 5., 5.],\n",
       "         [5., 5., 5., 5.],\n",
       "         [5., 5., 5., 5.]]),\n",
       " tensor([[5., 5., 5.],\n",
       "         [5., 5., 5.],\n",
       "         [5., 5., 5.],\n",
       "         [5., 5., 5.]]))"
      ]
     },
     "execution_count": 34,
     "metadata": {},
     "output_type": "execute_result"
    }
   ],
   "source": [
    "t3, t3.view([4,3]) # reshape"
   ]
  },
  {
   "cell_type": "code",
   "execution_count": 40,
   "id": "bed23118",
   "metadata": {},
   "outputs": [
    {
     "data": {
      "text/plain": [
       "[tensor([[1., 2., 3.],\n",
       "         [4., 5., 6.]]),\n",
       " tensor([2., 5.]),\n",
       " tensor([[2.],\n",
       "         [5.]])]"
      ]
     },
     "execution_count": 40,
     "metadata": {},
     "output_type": "execute_result"
    }
   ],
   "source": [
    "[t,\n",
    "t.mean(dim=1),\n",
    "t.mean(dim=1, keepdim=True)]"
   ]
  },
  {
   "cell_type": "code",
   "execution_count": 48,
   "id": "f820a0ce",
   "metadata": {},
   "outputs": [
    {
     "name": "stdout",
     "output_type": "stream",
     "text": [
      "torch.cpu.is_available()=True\n",
      "torch.cuda.is_available()=False\n"
     ]
    }
   ],
   "source": [
    "# CPU <--> GPU\n",
    "print(f\"{torch.cpu.is_available()=}\")\n",
    "print(f\"{torch.cuda.is_available()=}\")"
   ]
  },
  {
   "cell_type": "code",
   "execution_count": null,
   "id": "fb6bfea6",
   "metadata": {},
   "outputs": [
    {
     "data": {
      "text/plain": [
       "device(type='cpu')"
      ]
     },
     "execution_count": 52,
     "metadata": {},
     "output_type": "execute_result"
    }
   ],
   "source": [
    "t = t.cpu()\n",
    "t = t.to('cpu')\n",
    "# t = t.cuda()\n",
    "device = 'cuda' if torch.cuda.is_available() else 'cpu'\n",
    "t = t.to(device).detach() # тупа копирует тензор (на самом деле открепляет градиент (что бы это ни значило))\n",
    "t.device"
   ]
  },
  {
   "cell_type": "code",
   "execution_count": null,
   "id": "24494b91",
   "metadata": {},
   "outputs": [],
   "source": [
    "# Для вычислений тензора должны быть на одном устройстве (оба на CPU или оба на GPU)\n",
    "# CUDA - технология NVIDIA для работы с GPU, AMD - ROCm (офф. на Linux, плохо на Windows)"
   ]
  }
 ],
 "metadata": {
  "kernelspec": {
   "display_name": ".ML-venv",
   "language": "python",
   "name": "python3"
  },
  "language_info": {
   "codemirror_mode": {
    "name": "ipython",
    "version": 3
   },
   "file_extension": ".py",
   "mimetype": "text/x-python",
   "name": "python",
   "nbconvert_exporter": "python",
   "pygments_lexer": "ipython3",
   "version": "3.12.4"
  }
 },
 "nbformat": 4,
 "nbformat_minor": 5
}
