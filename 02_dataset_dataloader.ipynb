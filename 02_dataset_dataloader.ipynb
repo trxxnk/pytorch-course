{
 "cells": [
  {
   "cell_type": "markdown",
   "id": "d1bf8b99",
   "metadata": {},
   "source": [
    "# №2. Загрузка данных"
   ]
  },
  {
   "cell_type": "code",
   "execution_count": 17,
   "id": "c12d2ad0",
   "metadata": {},
   "outputs": [],
   "source": [
    "import os\n",
    "from os import path\n",
    "import sys\n",
    "import json\n",
    "import struct\n",
    "from array import array\n",
    "from tqdm import tqdm\n",
    "\n",
    "from typing import Optional, Callable\n",
    "\n",
    "import numpy as np\n",
    "import matplotlib.pyplot as plt\n",
    "from PIL import Image\n",
    "\n",
    "import torch\n",
    "import torchvision\n",
    "from torchvision.datasets import ImageFolder\n",
    "from torch.utils.data import Dataset, DataLoader, random_split"
   ]
  },
  {
   "cell_type": "code",
   "execution_count": 2,
   "id": "4446a669",
   "metadata": {},
   "outputs": [],
   "source": [
    "from IPython.core.magic import register_cell_magic\n",
    "@register_cell_magic\n",
    "def skip(line, cell):\n",
    "    return"
   ]
  },
  {
   "cell_type": "markdown",
   "id": "8cabde60",
   "metadata": {},
   "source": [
    "# 0. Загрузка данных"
   ]
  },
  {
   "cell_type": "code",
   "execution_count": 51,
   "id": "6a97f54b",
   "metadata": {},
   "outputs": [
    {
     "data": {
      "text/plain": [
       "'.\\\\data'"
      ]
     },
     "execution_count": 51,
     "metadata": {},
     "output_type": "execute_result"
    }
   ],
   "source": [
    "DATA_FOLDER = path.join(path.curdir, 'data')\n",
    "if not path.exists(DATA_FOLDER):\n",
    "    os.makedirs(DATA_FOLDER)\n",
    "DATA_FOLDER"
   ]
  },
  {
   "cell_type": "markdown",
   "id": "a6fb49df",
   "metadata": {},
   "source": [
    "### 0.1. MNIST"
   ]
  },
  {
   "cell_type": "code",
   "execution_count": 5,
   "id": "faf303e4",
   "metadata": {},
   "outputs": [],
   "source": [
    "%%skip\n",
    "torchvision.datasets.MNIST(root=DATA_FOLDER, train=True, download=True)"
   ]
  },
  {
   "cell_type": "code",
   "execution_count": 6,
   "id": "219e8107",
   "metadata": {},
   "outputs": [],
   "source": [
    "%%skip\n",
    "torchvision.datasets.MNIST(root=DATA_FOLDER, train=False, download=True)"
   ]
  },
  {
   "cell_type": "code",
   "execution_count": 7,
   "id": "33f553bf",
   "metadata": {},
   "outputs": [],
   "source": [
    "def read(dataset:str):\n",
    "    path_img, path_lbl = None, None\n",
    "    if dataset == 'train':\n",
    "        path_img = path.join(DATA_FOLDER, 'MNIST', 'raw', 'train-images-idx3-ubyte')\n",
    "        path_lbl = path.join(DATA_FOLDER, 'MNIST', 'raw', 'train-labels-idx1-ubyte')\n",
    "    elif dataset == 'test':\n",
    "        path_img = path.join(DATA_FOLDER, 'MNIST', 'raw', 't10k-images-idx3-ubyte')\n",
    "        path_lbl = path.join(DATA_FOLDER, 'MNIST', 'raw', 't10k-labels-idx1-ubyte')\n",
    "    else:\n",
    "        raise ValueError(f\"Invalid dataset: {dataset}\")\n",
    "    \n",
    "    magic, size, rows, cols = None, None, None, None\n",
    "    with open(path_lbl, 'rb') as f_lbl:\n",
    "        magic, size = struct.unpack('>II', f_lbl.read(8))\n",
    "        lbl = array('b', f_lbl.read())\n",
    "    \n",
    "    with open(path_img, 'rb') as f_img:\n",
    "        magic, size, rows, cols = struct.unpack('>IIII', f_img.read(16))\n",
    "        img = array('B', f_img.read())\n",
    "        \n",
    "    return lbl, img, size, rows, cols"
   ]
  },
  {
   "cell_type": "code",
   "execution_count": 8,
   "id": "d16ca440",
   "metadata": {},
   "outputs": [],
   "source": [
    "def write_dataset(labels, data, size, rows, cols, output_dir:str):\n",
    "    classes = {i:f\"class_{i}\" for i in range(10)}\n",
    "    output_dirs = [\n",
    "        path.join(output_dir, classes[i])\n",
    "        for i in range(10)\n",
    "    ]\n",
    "    for dir in output_dirs:\n",
    "        if not path.exists(dir):\n",
    "            os.makedirs(dir)    \n",
    "\n",
    "    for i, label in tqdm(list(enumerate(labels)), desc=f\"Saving images\"):\n",
    "        output_filename = path.join(output_dirs[label], f\"{i}.png\")\n",
    "        \n",
    "        with open(output_filename, 'wb') as h:\n",
    "            data_i = [\n",
    "                data[(i*rows*cols + j*cols):(i*rows*cols + (j+1)*cols)]\n",
    "                for j in range(rows)\n",
    "            ]\n",
    "            data_i = np.asarray(data_i)\n",
    "            img = Image.fromarray(data_i)\n",
    "            img.save(output_filename)    "
   ]
  },
  {
   "cell_type": "code",
   "execution_count": 9,
   "id": "ca93e0ee",
   "metadata": {},
   "outputs": [
    {
     "data": {
      "text/plain": [
       "'.\\\\data\\\\MNIST\\\\generated'"
      ]
     },
     "execution_count": 9,
     "metadata": {},
     "output_type": "execute_result"
    }
   ],
   "source": [
    "OUTPUT_DIR = path.join(DATA_FOLDER, 'MNIST', 'generated')\n",
    "if not path.exists(OUTPUT_DIR):\n",
    "    os.makedirs(OUTPUT_DIR)\n",
    "OUTPUT_DIR"
   ]
  },
  {
   "cell_type": "code",
   "execution_count": 10,
   "id": "d471f941",
   "metadata": {},
   "outputs": [],
   "source": [
    "%%skip\n",
    "write_dataset(*read('train'), os.path.join(OUTPUT_DIR, 'train'))"
   ]
  },
  {
   "cell_type": "code",
   "execution_count": 11,
   "id": "e05bc249",
   "metadata": {},
   "outputs": [],
   "source": [
    "%%skip\n",
    "write_dataset(*read('test'), os.path.join(OUTPUT_DIR, 'test'))"
   ]
  },
  {
   "cell_type": "markdown",
   "id": "3b625cb4",
   "metadata": {},
   "source": [
    "### 0.2 Генерация 100 тыс. изображений"
   ]
  },
  {
   "cell_type": "code",
   "execution_count": 12,
   "id": "2e41a1ae",
   "metadata": {},
   "outputs": [],
   "source": [
    "%%skip\n",
    "GEN_IMAGES_FOLDER = os.path.join(DATA_FOLDER, 'GEN_IMAGES')\n",
    "\n",
    "if not os.path.exists(GEN_IMAGES_FOLDER):\n",
    "    os.makedirs(GEN_IMAGES_FOLDER)\n",
    "\n",
    "img = np.random.randint(0, 50, (100_000, 64, 64), dtype=np.uint8)\n",
    "square = np.random.randint(100, 200, (100_000, 15, 15), dtype=np.uint8)\n",
    "\n",
    "coords = np.empty([100_000, 2], dtype=np.int32)\n",
    "\n",
    "data = {}\n",
    "\n",
    "for i in tqdm(range(img.shape[0]), desc=\"Saving images\"):\n",
    "    x = np.random.randint(20, 44)\n",
    "    y = np.random.randint(20, 44)\n",
    "    \n",
    "    img[i, (y-7):(y+8), (x-7):(x+8)] = square[i]\n",
    "    coords[i] = [y, x]\n",
    "    \n",
    "    name_img = f\"image_{i}.png\"\n",
    "    path_img = os.path.join(GEN_IMAGES_FOLDER, name_img)\n",
    "    \n",
    "    image = Image.fromarray(img[i])\n",
    "    image.save(path_img)\n",
    "    \n",
    "    data[name_img] = [y, x]\n",
    "    \n",
    "with open(os.path.join(GEN_IMAGES_FOLDER, 'coords.json'), 'w') as f:\n",
    "    json.dump(data, f)"
   ]
  },
  {
   "cell_type": "markdown",
   "id": "cc5cf559",
   "metadata": {},
   "source": [
    "# 1. MNIST для задачи классификации"
   ]
  },
  {
   "cell_type": "markdown",
   "id": "14cdb7b7",
   "metadata": {},
   "source": [
    "## 1.2 Пользовательский класс для MNIST"
   ]
  },
  {
   "cell_type": "code",
   "execution_count": 15,
   "id": "bd36f041",
   "metadata": {},
   "outputs": [
    {
     "name": "stdout",
     "output_type": "stream",
     "text": [
      "Путь: .\\data\\MNIST\\generated\\test\\class_0\n",
      "\t Подпапки: 0 шт.\n",
      "\t Файлы: 980 шт.\n",
      "\n"
     ]
    }
   ],
   "source": [
    "for path, dir_path, files in os.walk(os.path.join(DATA_FOLDER, 'MNIST', 'generated', 'test', 'class_0')):\n",
    "    print(f\"Путь: {path}\")\n",
    "    print(f\"\\t Подпапки: {len(dir_path)} шт.\")\n",
    "    print(f\"\\t Файлы: {len(files)} шт.\")\n",
    "    print()"
   ]
  },
  {
   "cell_type": "code",
   "execution_count": 23,
   "id": "88fca26d",
   "metadata": {},
   "outputs": [],
   "source": [
    "class MNISTDataset(Dataset):\n",
    "    def __init__(self, path:str, transform:Optional[Callable]=None):\n",
    "        self.path = path\n",
    "        self.transform = transform\n",
    "        \n",
    "        self.len_dataset = 0\n",
    "        self.data_list = []\n",
    "        \n",
    "        os_walk = os.walk(self.path)\n",
    "        path, dir_list, files = next(os_walk)\n",
    "        self.classes = dir_list\n",
    "        self.classes_to_index = {cls:i for i, cls in enumerate(sorted(self.classes))}\n",
    "        \n",
    "        for path, dir_list, files in os_walk:\n",
    "            \n",
    "            class_name = path.split(os.sep)[-1]\n",
    "            \n",
    "            for file in files:\n",
    "                file_path = os.path.join(path, file)\n",
    "                self.data_list.append((file_path, self.classes_to_index[class_name]))\n",
    "            self.len_dataset += len(files)\n",
    "            \n",
    "    def __len__(self):\n",
    "        return self.len_dataset\n",
    "    \n",
    "    def __getitem__(self, index:int):\n",
    "        file_path, class_index = self.data_list[index]\n",
    "        image = np.array(Image.open(file_path))\n",
    "        if self.transform is not None:\n",
    "            image = self.transform(image)\n",
    "        return image, class_index"
   ]
  },
  {
   "cell_type": "code",
   "execution_count": 24,
   "id": "b631a8e9",
   "metadata": {},
   "outputs": [],
   "source": [
    "train_mnist = MNISTDataset(os.path.join(DATA_FOLDER, 'MNIST', 'generated', 'train'))\n",
    "test_mnist = MNISTDataset(os.path.join(DATA_FOLDER, 'MNIST', 'generated', 'test'))"
   ]
  },
  {
   "cell_type": "code",
   "execution_count": 26,
   "id": "8fddf2b9",
   "metadata": {},
   "outputs": [
    {
     "data": {
      "text/plain": [
       "({'class_0': 0,\n",
       "  'class_1': 1,\n",
       "  'class_2': 2,\n",
       "  'class_3': 3,\n",
       "  'class_4': 4,\n",
       "  'class_5': 5,\n",
       "  'class_6': 6,\n",
       "  'class_7': 7,\n",
       "  'class_8': 8,\n",
       "  'class_9': 9},\n",
       " {'class_0': 0,\n",
       "  'class_1': 1,\n",
       "  'class_2': 2,\n",
       "  'class_3': 3,\n",
       "  'class_4': 4,\n",
       "  'class_5': 5,\n",
       "  'class_6': 6,\n",
       "  'class_7': 7,\n",
       "  'class_8': 8,\n",
       "  'class_9': 9})"
      ]
     },
     "execution_count": 26,
     "metadata": {},
     "output_type": "execute_result"
    }
   ],
   "source": [
    "train_mnist.classes_to_index, test_mnist.classes_to_index"
   ]
  },
  {
   "cell_type": "code",
   "execution_count": 27,
   "id": "8913e8c7",
   "metadata": {},
   "outputs": [
    {
     "data": {
      "text/plain": [
       "(60000, 10000)"
      ]
     },
     "execution_count": 27,
     "metadata": {},
     "output_type": "execute_result"
    }
   ],
   "source": [
    "len(train_mnist), len(test_mnist)"
   ]
  },
  {
   "cell_type": "code",
   "execution_count": 50,
   "id": "8e33bd6c",
   "metadata": {},
   "outputs": [
    {
     "name": "stdout",
     "output_type": "stream",
     "text": [
      "(28, 28) 0 class_0\n"
     ]
    },
    {
     "data": {
      "text/plain": [
       "<matplotlib.image.AxesImage at 0x21289b76ab0>"
      ]
     },
     "execution_count": 50,
     "metadata": {},
     "output_type": "execute_result"
    },
    {
     "data": {
      "image/png": "[encoded data removed]",
      "text/plain": [
       "<Figure size 640x480 with 1 Axes>"
      ]
     },
     "metadata": {},
     "output_type": "display_data"
    }
   ],
   "source": [
    "idx = 52\n",
    "img, label = train_mnist[idx]\n",
    "print(img.shape, label, train_mnist.classes[label])\n",
    "plt.title(f\"Label: {label}\")\n",
    "plt.imshow(img, cmap='gray')"
   ]
  },
  {
   "cell_type": "code",
   "execution_count": 42,
   "id": "93b68d6a",
   "metadata": {},
   "outputs": [
    {
     "name": "stdout",
     "output_type": "stream",
     "text": [
      "Train dataset length:      48000\n",
      "Validation dataset length: 12000\n",
      "Test dataset length:       10000\n"
     ]
    }
   ],
   "source": [
    "train_data, val_data = random_split(train_mnist, [0.8, 0.2])\n",
    "print(f\"Train dataset length:      {len(train_data)}\")\n",
    "print(f\"Validation dataset length: {len(val_data)}\")\n",
    "print(f\"Test dataset length:       {len(test_mnist)}\")"
   ]
  },
  {
   "cell_type": "code",
   "execution_count": 54,
   "id": "113c6b44",
   "metadata": {},
   "outputs": [],
   "source": [
    "batch_size = 16\n",
    "train_loader = DataLoader(train_data, batch_size=batch_size, shuffle=True)\n",
    "val_loader = DataLoader(val_data, batch_size=batch_size, shuffle=False)\n",
    "test_loader = DataLoader(test_mnist, batch_size=batch_size, shuffle=False)"
   ]
  },
  {
   "cell_type": "code",
   "execution_count": 56,
   "id": "c488bad0",
   "metadata": {},
   "outputs": [
    {
     "name": "stdout",
     "output_type": "stream",
     "text": [
      "Batch 1 of 3000\n",
      "\tData shape: torch.Size([16, 28, 28])\n",
      "\tTarget shape: torch.Size([16])\n"
     ]
    }
   ],
   "source": [
    "for batch_idx, (data, target) in enumerate(train_loader):\n",
    "    print(f\"Batch {batch_idx+1} of {len(train_loader)}\")\n",
    "    print(f\"\\tData shape: {data.shape}\")\n",
    "    print(f\"\\tTarget shape: {target.shape}\")\n",
    "    break"
   ]
  },
  {
   "cell_type": "markdown",
   "id": "bfe48aa0",
   "metadata": {},
   "source": [
    "## 1.2 Встроенные класс `ImageFolder`"
   ]
  },
  {
   "cell_type": "markdown",
   "id": "024e2a08",
   "metadata": {},
   "source": [
    "Для `ImageFolder` важна структура файлов:\n",
    "- Разные классы изображений в разных папках\n",
    "- Название папки есть имя класса\n",
    "- В папках хранятся изображения в форматах .jpeg, .png и т.д."
   ]
  },
  {
   "cell_type": "code",
   "execution_count": 57,
   "id": "5aba6924",
   "metadata": {},
   "outputs": [],
   "source": [
    "train_data = ImageFolder(os.path.join(DATA_FOLDER, 'MNIST', 'generated', 'train'))\n",
    "test_data = ImageFolder(os.path.join(DATA_FOLDER, 'MNIST', 'generated', 'test'))"
   ]
  },
  {
   "cell_type": "code",
   "execution_count": 58,
   "id": "b2580502",
   "metadata": {},
   "outputs": [
    {
     "data": {
      "text/plain": [
       "(['class_0',\n",
       "  'class_1',\n",
       "  'class_2',\n",
       "  'class_3',\n",
       "  'class_4',\n",
       "  'class_5',\n",
       "  'class_6',\n",
       "  'class_7',\n",
       "  'class_8',\n",
       "  'class_9'],\n",
       " ['class_0',\n",
       "  'class_1',\n",
       "  'class_2',\n",
       "  'class_3',\n",
       "  'class_4',\n",
       "  'class_5',\n",
       "  'class_6',\n",
       "  'class_7',\n",
       "  'class_8',\n",
       "  'class_9'])"
      ]
     },
     "execution_count": 58,
     "metadata": {},
     "output_type": "execute_result"
    }
   ],
   "source": [
    "train_data.classes, test_data.classes"
   ]
  },
  {
   "cell_type": "code",
   "execution_count": 59,
   "id": "fcb6a706",
   "metadata": {},
   "outputs": [
    {
     "data": {
      "text/plain": [
       "(60000, 10000)"
      ]
     },
     "execution_count": 59,
     "metadata": {},
     "output_type": "execute_result"
    }
   ],
   "source": [
    "len(train_data), len(test_data)"
   ]
  },
  {
   "cell_type": "code",
   "execution_count": 61,
   "id": "02ae1a2c",
   "metadata": {},
   "outputs": [
    {
     "name": "stdout",
     "output_type": "stream",
     "text": [
      "<PIL.Image.Image image mode=RGB size=28x28 at 0x21288A5C170> 0 class_0\n",
      "Train dataset length:      48000\n",
      "Validation dataset length: 12000\n"
     ]
    },
    {
     "data": {
      "image/png": "[encoded data removed]",
      "text/plain": [
       "<Figure size 640x480 with 1 Axes>"
      ]
     },
     "metadata": {},
     "output_type": "display_data"
    }
   ],
   "source": [
    "idx = 52\n",
    "img, label = train_data[idx]\n",
    "print(img, label, train_data.classes[label])\n",
    "plt.title(f\"Label: {label}\")\n",
    "plt.imshow(img, cmap='gray')\n",
    "train_data, val_data = random_split(train_data, [0.8, 0.2])\n",
    "print(f\"Train dataset length:      {len(train_data)}\")\n",
    "print(f\"Validation dataset length: {len(val_data)}\")"
   ]
  },
  {
   "cell_type": "code",
   "execution_count": 65,
   "id": "cf365ec4",
   "metadata": {},
   "outputs": [],
   "source": [
    "%%skip\n",
    "batch_size = 64\n",
    "train_loader = DataLoader(train_data, batch_size=batch_size, shuffle=True)\n",
    "val_loader = DataLoader(val_data, batch_size=batch_size, shuffle=False)\n",
    "test_loader = DataLoader(test_data, batch_size=batch_size, shuffle=False)\n",
    "for batch_idx, (data, target) in enumerate(train_loader):\n",
    "    print(f\"Batch {batch_idx+1} of {len(train_loader)}\")\n",
    "    # print(f\"\\tData shape: {data.shape}\")\n",
    "    # print(f\"\\tTarget shape: {target.shape}\")\n",
    "    break"
   ]
  },
  {
   "cell_type": "markdown",
   "id": "39be1452",
   "metadata": {},
   "source": [
    "# 2. Generated images"
   ]
  },
  {
   "cell_type": "code",
   "execution_count": 68,
   "id": "51643128",
   "metadata": {},
   "outputs": [
    {
     "data": {
      "text/plain": [
       "(['coords.json',\n",
       "  'image_0.png',\n",
       "  'image_1.png',\n",
       "  'image_10.png',\n",
       "  'image_100.png',\n",
       "  'image_1000.png',\n",
       "  'image_10000.png',\n",
       "  'image_10001.png',\n",
       "  'image_10002.png',\n",
       "  'image_10003.png'],\n",
       " 100001)"
      ]
     },
     "execution_count": 68,
     "metadata": {},
     "output_type": "execute_result"
    }
   ],
   "source": [
    "os.listdir(os.path.join(DATA_FOLDER, 'GEN_IMAGES'))[:10]"
   ]
  },
  {
   "cell_type": "code",
   "execution_count": 69,
   "id": "244aaaa2",
   "metadata": {},
   "outputs": [
    {
     "data": {
      "text/plain": [
       "100001"
      ]
     },
     "execution_count": 69,
     "metadata": {},
     "output_type": "execute_result"
    }
   ],
   "source": [
    "len(os.listdir(os.path.join(DATA_FOLDER, 'GEN_IMAGES')))"
   ]
  },
  {
   "cell_type": "code",
   "execution_count": 70,
   "id": "ef7f8fa3",
   "metadata": {},
   "outputs": [],
   "source": [
    "class GenImagesDataset(Dataset):\n",
    "    def __init__(self, path:str, transform:Optional[Callable]=None):\n",
    "        self.path = path\n",
    "        self.transform = transform\n",
    "        \n",
    "        self.list_file_names = os.listdir(self.path)\n",
    "        if 'coords.json' in self.list_file_names:\n",
    "            self.list_file_names.remove('coords.json')\n",
    "            \n",
    "        self.len_dataset = len(self.list_file_names)\n",
    "        \n",
    "        with open(os.path.join(self.path, 'coords.json'), 'r') as f:\n",
    "            self.coords = json.load(f)\n",
    "        \n",
    "    def __len__(self):\n",
    "        return self.len_dataset\n",
    "    \n",
    "    def __getitem__(self, index:int):\n",
    "        file_name = self.list_file_names[index]\n",
    "        path_img = os.path.join(self.path, file_name)\n",
    "        \n",
    "        img = np.array(Image.open(path_img))\n",
    "        coords = np.array(self.coords[file_name])\n",
    "        \n",
    "        if self.transform is not None:\n",
    "            img = self.transform(img)\n",
    "            \n",
    "        return img, coords"
   ]
  },
  {
   "cell_type": "code",
   "execution_count": 71,
   "id": "f9c56c54",
   "metadata": {},
   "outputs": [],
   "source": [
    "gen_data = GenImagesDataset(os.path.join(DATA_FOLDER, 'GEN_IMAGES'))"
   ]
  },
  {
   "cell_type": "code",
   "execution_count": 72,
   "id": "787fcc7f",
   "metadata": {},
   "outputs": [
    {
     "data": {
      "text/plain": [
       "100000"
      ]
     },
     "execution_count": 72,
     "metadata": {},
     "output_type": "execute_result"
    }
   ],
   "source": [
    "len(gen_data)"
   ]
  },
  {
   "cell_type": "code",
   "execution_count": 77,
   "id": "8c3f1d78",
   "metadata": {},
   "outputs": [
    {
     "name": "stdout",
     "output_type": "stream",
     "text": [
      "(64, 64) [24 33]\n"
     ]
    },
    {
     "data": {
      "text/plain": [
       "<matplotlib.collections.PathCollection at 0x2128d613980>"
      ]
     },
     "execution_count": 77,
     "metadata": {},
     "output_type": "execute_result"
    },
    {
     "data": {
      "image/png": "[encoded data removed]",
      "text/plain": [
       "<Figure size 640x480 with 1 Axes>"
      ]
     },
     "metadata": {},
     "output_type": "display_data"
    }
   ],
   "source": [
    "idx = 52\n",
    "img, coords = gen_data[idx]\n",
    "print(img.shape, coords)\n",
    "plt.title(f\"Coords: {coords}\")\n",
    "plt.imshow(img, cmap='gray')\n",
    "plt.scatter(coords[1], coords[0], marker='*',c='red', s=100)"
   ]
  },
  {
   "cell_type": "code",
   "execution_count": 80,
   "id": "f080c185",
   "metadata": {},
   "outputs": [
    {
     "name": "stdout",
     "output_type": "stream",
     "text": [
      "Train dataset length:      80000\n",
      "Test dataset length:       20000\n"
     ]
    }
   ],
   "source": [
    "train_data, test_data = random_split(gen_data, [0.8,  0.2])\n",
    "print(f\"Train dataset length:      {len(train_data)}\")\n",
    "print(f\"Test dataset length:       {len(test_data)}\")\n",
    "batch_size = 64\n",
    "train_loader = DataLoader(train_data, batch_size=batch_size, shuffle=True)\n",
    "test_loader = DataLoader(gen_data, batch_size=batch_size, shuffle=False)"
   ]
  },
  {
   "cell_type": "code",
   "execution_count": 81,
   "id": "f93bd141",
   "metadata": {},
   "outputs": [
    {
     "name": "stdout",
     "output_type": "stream",
     "text": [
      "Batch 1 of 1250\n",
      "\tData shape: torch.Size([64, 64, 64])\n",
      "\tTarget shape: torch.Size([64, 2])\n"
     ]
    }
   ],
   "source": [
    "for batch_idx, (data, target) in enumerate(train_loader):\n",
    "    print(f\"Batch {batch_idx+1} of {len(train_loader)}\")\n",
    "    print(f\"\\tData shape: {data.shape}\")\n",
    "    print(f\"\\tTarget shape: {target.shape}\")\n",
    "    break"
   ]
  },
  {
   "cell_type": "code",
   "execution_count": null,
   "id": "b2db774e",
   "metadata": {},
   "outputs": [],
   "source": []
  }
 ],
 "metadata": {
  "kernelspec": {
   "display_name": ".ML-venv",
   "language": "python",
   "name": "python3"
  },
  "language_info": {
   "codemirror_mode": {
    "name": "ipython",
    "version": 3
   },
   "file_extension": ".py",
   "mimetype": "text/x-python",
   "name": "python",
   "nbconvert_exporter": "python",
   "pygments_lexer": "ipython3",
   "version": "3.12.4"
  }
 },
 "nbformat": 4,
 "nbformat_minor": 5
}
