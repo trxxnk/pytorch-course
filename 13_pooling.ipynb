{
 "cells": [
  {
   "cell_type": "markdown",
   "id": "83c50add",
   "metadata": {},
   "source": [
    "# №13. Pooling cлои. **MaxPooling** & **AvgPooling**"
   ]
  },
  {
   "cell_type": "markdown",
   "id": "2afa3381",
   "metadata": {},
   "source": [
    "<img src=\"data/my_images/pooling_example.png\" width=550>"
   ]
  },
  {
   "cell_type": "code",
   "execution_count": 2,
   "id": "3f3f794b",
   "metadata": {},
   "outputs": [],
   "source": [
    "import torch\n",
    "import torch.nn as nn"
   ]
  },
  {
   "cell_type": "code",
   "execution_count": 6,
   "id": "f5c57bd8",
   "metadata": {},
   "outputs": [
    {
     "name": "stdout",
     "output_type": "stream",
     "text": [
      "tensor([[[  1,   2,   3],\n",
      "         [  4,   5, 999],\n",
      "         [  6,   7,   8]]])\n",
      "tensor([[[  5, 999],\n",
      "         [  7, 999]]])\n"
     ]
    }
   ],
   "source": [
    "x = torch.tensor([[\n",
    "    [1,2,3],\n",
    "    [4,5,999],\n",
    "    [6,7,8]\n",
    "]])\n",
    "print(x)\n",
    "\n",
    "max_pooling = nn.MaxPool2d(kernel_size=2, stride=1)\n",
    "\n",
    "pooled_x = max_pooling(x)\n",
    "print(pooled_x)"
   ]
  },
  {
   "cell_type": "code",
   "execution_count": null,
   "id": "c4db0b2a",
   "metadata": {},
   "outputs": [],
   "source": []
  }
 ],
 "metadata": {
  "kernelspec": {
   "display_name": ".ML-venv",
   "language": "python",
   "name": "python3"
  },
  "language_info": {
   "codemirror_mode": {
    "name": "ipython",
    "version": 3
   },
   "file_extension": ".py",
   "mimetype": "text/x-python",
   "name": "python",
   "nbconvert_exporter": "python",
   "pygments_lexer": "ipython3",
   "version": "3.12.4"
  }
 },
 "nbformat": 4,
 "nbformat_minor": 5
}
